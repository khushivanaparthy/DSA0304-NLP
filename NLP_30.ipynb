{
  "nbformat": 4,
  "nbformat_minor": 0,
  "metadata": {
    "colab": {
      "provenance": []
    },
    "kernelspec": {
      "name": "python3",
      "display_name": "Python 3"
    },
    "language_info": {
      "name": "python"
    },
    "widgets": {
      "application/vnd.jupyter.widget-state+json": {
        "aa3293e0249c4e59a70282618d2db0e6": {
          "model_module": "@jupyter-widgets/controls",
          "model_name": "HBoxModel",
          "model_module_version": "1.5.0",
          "state": {
            "_dom_classes": [],
            "_model_module": "@jupyter-widgets/controls",
            "_model_module_version": "1.5.0",
            "_model_name": "HBoxModel",
            "_view_count": null,
            "_view_module": "@jupyter-widgets/controls",
            "_view_module_version": "1.5.0",
            "_view_name": "HBoxView",
            "box_style": "",
            "children": [
              "IPY_MODEL_1ddc4024b41c4c49bd1e9d88f7f4b283",
              "IPY_MODEL_9f7c563e51d74f7da4076007eac0ec2e",
              "IPY_MODEL_12129ffc63384813985a927ec5ce1342"
            ],
            "layout": "IPY_MODEL_73c3d3be19ba47e9b4d751f6d3495dbf"
          }
        },
        "1ddc4024b41c4c49bd1e9d88f7f4b283": {
          "model_module": "@jupyter-widgets/controls",
          "model_name": "HTMLModel",
          "model_module_version": "1.5.0",
          "state": {
            "_dom_classes": [],
            "_model_module": "@jupyter-widgets/controls",
            "_model_module_version": "1.5.0",
            "_model_name": "HTMLModel",
            "_view_count": null,
            "_view_module": "@jupyter-widgets/controls",
            "_view_module_version": "1.5.0",
            "_view_name": "HTMLView",
            "description": "",
            "description_tooltip": null,
            "layout": "IPY_MODEL_c13219c6fbec422aba660eb4e99f6465",
            "placeholder": "​",
            "style": "IPY_MODEL_53407fc2445047559f96ccb1da042932",
            "value": "vocab.json: 100%"
          }
        },
        "9f7c563e51d74f7da4076007eac0ec2e": {
          "model_module": "@jupyter-widgets/controls",
          "model_name": "FloatProgressModel",
          "model_module_version": "1.5.0",
          "state": {
            "_dom_classes": [],
            "_model_module": "@jupyter-widgets/controls",
            "_model_module_version": "1.5.0",
            "_model_name": "FloatProgressModel",
            "_view_count": null,
            "_view_module": "@jupyter-widgets/controls",
            "_view_module_version": "1.5.0",
            "_view_name": "ProgressView",
            "bar_style": "success",
            "description": "",
            "description_tooltip": null,
            "layout": "IPY_MODEL_f2803ee4059c4beab8a46a9acce39f17",
            "max": 1042301,
            "min": 0,
            "orientation": "horizontal",
            "style": "IPY_MODEL_c47dae67a31f4b048c66ab6bda6466cf",
            "value": 1042301
          }
        },
        "12129ffc63384813985a927ec5ce1342": {
          "model_module": "@jupyter-widgets/controls",
          "model_name": "HTMLModel",
          "model_module_version": "1.5.0",
          "state": {
            "_dom_classes": [],
            "_model_module": "@jupyter-widgets/controls",
            "_model_module_version": "1.5.0",
            "_model_name": "HTMLModel",
            "_view_count": null,
            "_view_module": "@jupyter-widgets/controls",
            "_view_module_version": "1.5.0",
            "_view_name": "HTMLView",
            "description": "",
            "description_tooltip": null,
            "layout": "IPY_MODEL_c6bb7d8fbd0544e49d7a4a90a97cec4b",
            "placeholder": "​",
            "style": "IPY_MODEL_d296e875e7a74aa18cdeb15e9afe5e8a",
            "value": " 1.04M/1.04M [00:00&lt;00:00, 6.06MB/s]"
          }
        },
        "73c3d3be19ba47e9b4d751f6d3495dbf": {
          "model_module": "@jupyter-widgets/base",
          "model_name": "LayoutModel",
          "model_module_version": "1.2.0",
          "state": {
            "_model_module": "@jupyter-widgets/base",
            "_model_module_version": "1.2.0",
            "_model_name": "LayoutModel",
            "_view_count": null,
            "_view_module": "@jupyter-widgets/base",
            "_view_module_version": "1.2.0",
            "_view_name": "LayoutView",
            "align_content": null,
            "align_items": null,
            "align_self": null,
            "border": null,
            "bottom": null,
            "display": null,
            "flex": null,
            "flex_flow": null,
            "grid_area": null,
            "grid_auto_columns": null,
            "grid_auto_flow": null,
            "grid_auto_rows": null,
            "grid_column": null,
            "grid_gap": null,
            "grid_row": null,
            "grid_template_areas": null,
            "grid_template_columns": null,
            "grid_template_rows": null,
            "height": null,
            "justify_content": null,
            "justify_items": null,
            "left": null,
            "margin": null,
            "max_height": null,
            "max_width": null,
            "min_height": null,
            "min_width": null,
            "object_fit": null,
            "object_position": null,
            "order": null,
            "overflow": null,
            "overflow_x": null,
            "overflow_y": null,
            "padding": null,
            "right": null,
            "top": null,
            "visibility": null,
            "width": null
          }
        },
        "c13219c6fbec422aba660eb4e99f6465": {
          "model_module": "@jupyter-widgets/base",
          "model_name": "LayoutModel",
          "model_module_version": "1.2.0",
          "state": {
            "_model_module": "@jupyter-widgets/base",
            "_model_module_version": "1.2.0",
            "_model_name": "LayoutModel",
            "_view_count": null,
            "_view_module": "@jupyter-widgets/base",
            "_view_module_version": "1.2.0",
            "_view_name": "LayoutView",
            "align_content": null,
            "align_items": null,
            "align_self": null,
            "border": null,
            "bottom": null,
            "display": null,
            "flex": null,
            "flex_flow": null,
            "grid_area": null,
            "grid_auto_columns": null,
            "grid_auto_flow": null,
            "grid_auto_rows": null,
            "grid_column": null,
            "grid_gap": null,
            "grid_row": null,
            "grid_template_areas": null,
            "grid_template_columns": null,
            "grid_template_rows": null,
            "height": null,
            "justify_content": null,
            "justify_items": null,
            "left": null,
            "margin": null,
            "max_height": null,
            "max_width": null,
            "min_height": null,
            "min_width": null,
            "object_fit": null,
            "object_position": null,
            "order": null,
            "overflow": null,
            "overflow_x": null,
            "overflow_y": null,
            "padding": null,
            "right": null,
            "top": null,
            "visibility": null,
            "width": null
          }
        },
        "53407fc2445047559f96ccb1da042932": {
          "model_module": "@jupyter-widgets/controls",
          "model_name": "DescriptionStyleModel",
          "model_module_version": "1.5.0",
          "state": {
            "_model_module": "@jupyter-widgets/controls",
            "_model_module_version": "1.5.0",
            "_model_name": "DescriptionStyleModel",
            "_view_count": null,
            "_view_module": "@jupyter-widgets/base",
            "_view_module_version": "1.2.0",
            "_view_name": "StyleView",
            "description_width": ""
          }
        },
        "f2803ee4059c4beab8a46a9acce39f17": {
          "model_module": "@jupyter-widgets/base",
          "model_name": "LayoutModel",
          "model_module_version": "1.2.0",
          "state": {
            "_model_module": "@jupyter-widgets/base",
            "_model_module_version": "1.2.0",
            "_model_name": "LayoutModel",
            "_view_count": null,
            "_view_module": "@jupyter-widgets/base",
            "_view_module_version": "1.2.0",
            "_view_name": "LayoutView",
            "align_content": null,
            "align_items": null,
            "align_self": null,
            "border": null,
            "bottom": null,
            "display": null,
            "flex": null,
            "flex_flow": null,
            "grid_area": null,
            "grid_auto_columns": null,
            "grid_auto_flow": null,
            "grid_auto_rows": null,
            "grid_column": null,
            "grid_gap": null,
            "grid_row": null,
            "grid_template_areas": null,
            "grid_template_columns": null,
            "grid_template_rows": null,
            "height": null,
            "justify_content": null,
            "justify_items": null,
            "left": null,
            "margin": null,
            "max_height": null,
            "max_width": null,
            "min_height": null,
            "min_width": null,
            "object_fit": null,
            "object_position": null,
            "order": null,
            "overflow": null,
            "overflow_x": null,
            "overflow_y": null,
            "padding": null,
            "right": null,
            "top": null,
            "visibility": null,
            "width": null
          }
        },
        "c47dae67a31f4b048c66ab6bda6466cf": {
          "model_module": "@jupyter-widgets/controls",
          "model_name": "ProgressStyleModel",
          "model_module_version": "1.5.0",
          "state": {
            "_model_module": "@jupyter-widgets/controls",
            "_model_module_version": "1.5.0",
            "_model_name": "ProgressStyleModel",
            "_view_count": null,
            "_view_module": "@jupyter-widgets/base",
            "_view_module_version": "1.2.0",
            "_view_name": "StyleView",
            "bar_color": null,
            "description_width": ""
          }
        },
        "c6bb7d8fbd0544e49d7a4a90a97cec4b": {
          "model_module": "@jupyter-widgets/base",
          "model_name": "LayoutModel",
          "model_module_version": "1.2.0",
          "state": {
            "_model_module": "@jupyter-widgets/base",
            "_model_module_version": "1.2.0",
            "_model_name": "LayoutModel",
            "_view_count": null,
            "_view_module": "@jupyter-widgets/base",
            "_view_module_version": "1.2.0",
            "_view_name": "LayoutView",
            "align_content": null,
            "align_items": null,
            "align_self": null,
            "border": null,
            "bottom": null,
            "display": null,
            "flex": null,
            "flex_flow": null,
            "grid_area": null,
            "grid_auto_columns": null,
            "grid_auto_flow": null,
            "grid_auto_rows": null,
            "grid_column": null,
            "grid_gap": null,
            "grid_row": null,
            "grid_template_areas": null,
            "grid_template_columns": null,
            "grid_template_rows": null,
            "height": null,
            "justify_content": null,
            "justify_items": null,
            "left": null,
            "margin": null,
            "max_height": null,
            "max_width": null,
            "min_height": null,
            "min_width": null,
            "object_fit": null,
            "object_position": null,
            "order": null,
            "overflow": null,
            "overflow_x": null,
            "overflow_y": null,
            "padding": null,
            "right": null,
            "top": null,
            "visibility": null,
            "width": null
          }
        },
        "d296e875e7a74aa18cdeb15e9afe5e8a": {
          "model_module": "@jupyter-widgets/controls",
          "model_name": "DescriptionStyleModel",
          "model_module_version": "1.5.0",
          "state": {
            "_model_module": "@jupyter-widgets/controls",
            "_model_module_version": "1.5.0",
            "_model_name": "DescriptionStyleModel",
            "_view_count": null,
            "_view_module": "@jupyter-widgets/base",
            "_view_module_version": "1.2.0",
            "_view_name": "StyleView",
            "description_width": ""
          }
        },
        "410d41c95a654a78a76ef2b58a8c7bb4": {
          "model_module": "@jupyter-widgets/controls",
          "model_name": "HBoxModel",
          "model_module_version": "1.5.0",
          "state": {
            "_dom_classes": [],
            "_model_module": "@jupyter-widgets/controls",
            "_model_module_version": "1.5.0",
            "_model_name": "HBoxModel",
            "_view_count": null,
            "_view_module": "@jupyter-widgets/controls",
            "_view_module_version": "1.5.0",
            "_view_name": "HBoxView",
            "box_style": "",
            "children": [
              "IPY_MODEL_6f25ba6d5b4b485abc48e7efe7540efc",
              "IPY_MODEL_ecc354e86cec41a0b937a11556303554",
              "IPY_MODEL_311bce12af834d3da31de2f3f9190153"
            ],
            "layout": "IPY_MODEL_fb10cedcfe45499cbb9f295ef0b0fa0e"
          }
        },
        "6f25ba6d5b4b485abc48e7efe7540efc": {
          "model_module": "@jupyter-widgets/controls",
          "model_name": "HTMLModel",
          "model_module_version": "1.5.0",
          "state": {
            "_dom_classes": [],
            "_model_module": "@jupyter-widgets/controls",
            "_model_module_version": "1.5.0",
            "_model_name": "HTMLModel",
            "_view_count": null,
            "_view_module": "@jupyter-widgets/controls",
            "_view_module_version": "1.5.0",
            "_view_name": "HTMLView",
            "description": "",
            "description_tooltip": null,
            "layout": "IPY_MODEL_267fc8caa29a469395e85122ee245da4",
            "placeholder": "​",
            "style": "IPY_MODEL_97706fdd4703413a981a8ec0e9730cca",
            "value": "merges.txt: 100%"
          }
        },
        "ecc354e86cec41a0b937a11556303554": {
          "model_module": "@jupyter-widgets/controls",
          "model_name": "FloatProgressModel",
          "model_module_version": "1.5.0",
          "state": {
            "_dom_classes": [],
            "_model_module": "@jupyter-widgets/controls",
            "_model_module_version": "1.5.0",
            "_model_name": "FloatProgressModel",
            "_view_count": null,
            "_view_module": "@jupyter-widgets/controls",
            "_view_module_version": "1.5.0",
            "_view_name": "ProgressView",
            "bar_style": "success",
            "description": "",
            "description_tooltip": null,
            "layout": "IPY_MODEL_6dd70d8d3180470fba5df48da3586620",
            "max": 456318,
            "min": 0,
            "orientation": "horizontal",
            "style": "IPY_MODEL_aaabb46d066a458fa75bb35111e8a93d",
            "value": 456318
          }
        },
        "311bce12af834d3da31de2f3f9190153": {
          "model_module": "@jupyter-widgets/controls",
          "model_name": "HTMLModel",
          "model_module_version": "1.5.0",
          "state": {
            "_dom_classes": [],
            "_model_module": "@jupyter-widgets/controls",
            "_model_module_version": "1.5.0",
            "_model_name": "HTMLModel",
            "_view_count": null,
            "_view_module": "@jupyter-widgets/controls",
            "_view_module_version": "1.5.0",
            "_view_name": "HTMLView",
            "description": "",
            "description_tooltip": null,
            "layout": "IPY_MODEL_b85276ae765d498b8770af394ff007a0",
            "placeholder": "​",
            "style": "IPY_MODEL_b66a9f34efcb427c9336fe99d0221393",
            "value": " 456k/456k [00:00&lt;00:00, 5.83MB/s]"
          }
        },
        "fb10cedcfe45499cbb9f295ef0b0fa0e": {
          "model_module": "@jupyter-widgets/base",
          "model_name": "LayoutModel",
          "model_module_version": "1.2.0",
          "state": {
            "_model_module": "@jupyter-widgets/base",
            "_model_module_version": "1.2.0",
            "_model_name": "LayoutModel",
            "_view_count": null,
            "_view_module": "@jupyter-widgets/base",
            "_view_module_version": "1.2.0",
            "_view_name": "LayoutView",
            "align_content": null,
            "align_items": null,
            "align_self": null,
            "border": null,
            "bottom": null,
            "display": null,
            "flex": null,
            "flex_flow": null,
            "grid_area": null,
            "grid_auto_columns": null,
            "grid_auto_flow": null,
            "grid_auto_rows": null,
            "grid_column": null,
            "grid_gap": null,
            "grid_row": null,
            "grid_template_areas": null,
            "grid_template_columns": null,
            "grid_template_rows": null,
            "height": null,
            "justify_content": null,
            "justify_items": null,
            "left": null,
            "margin": null,
            "max_height": null,
            "max_width": null,
            "min_height": null,
            "min_width": null,
            "object_fit": null,
            "object_position": null,
            "order": null,
            "overflow": null,
            "overflow_x": null,
            "overflow_y": null,
            "padding": null,
            "right": null,
            "top": null,
            "visibility": null,
            "width": null
          }
        },
        "267fc8caa29a469395e85122ee245da4": {
          "model_module": "@jupyter-widgets/base",
          "model_name": "LayoutModel",
          "model_module_version": "1.2.0",
          "state": {
            "_model_module": "@jupyter-widgets/base",
            "_model_module_version": "1.2.0",
            "_model_name": "LayoutModel",
            "_view_count": null,
            "_view_module": "@jupyter-widgets/base",
            "_view_module_version": "1.2.0",
            "_view_name": "LayoutView",
            "align_content": null,
            "align_items": null,
            "align_self": null,
            "border": null,
            "bottom": null,
            "display": null,
            "flex": null,
            "flex_flow": null,
            "grid_area": null,
            "grid_auto_columns": null,
            "grid_auto_flow": null,
            "grid_auto_rows": null,
            "grid_column": null,
            "grid_gap": null,
            "grid_row": null,
            "grid_template_areas": null,
            "grid_template_columns": null,
            "grid_template_rows": null,
            "height": null,
            "justify_content": null,
            "justify_items": null,
            "left": null,
            "margin": null,
            "max_height": null,
            "max_width": null,
            "min_height": null,
            "min_width": null,
            "object_fit": null,
            "object_position": null,
            "order": null,
            "overflow": null,
            "overflow_x": null,
            "overflow_y": null,
            "padding": null,
            "right": null,
            "top": null,
            "visibility": null,
            "width": null
          }
        },
        "97706fdd4703413a981a8ec0e9730cca": {
          "model_module": "@jupyter-widgets/controls",
          "model_name": "DescriptionStyleModel",
          "model_module_version": "1.5.0",
          "state": {
            "_model_module": "@jupyter-widgets/controls",
            "_model_module_version": "1.5.0",
            "_model_name": "DescriptionStyleModel",
            "_view_count": null,
            "_view_module": "@jupyter-widgets/base",
            "_view_module_version": "1.2.0",
            "_view_name": "StyleView",
            "description_width": ""
          }
        },
        "6dd70d8d3180470fba5df48da3586620": {
          "model_module": "@jupyter-widgets/base",
          "model_name": "LayoutModel",
          "model_module_version": "1.2.0",
          "state": {
            "_model_module": "@jupyter-widgets/base",
            "_model_module_version": "1.2.0",
            "_model_name": "LayoutModel",
            "_view_count": null,
            "_view_module": "@jupyter-widgets/base",
            "_view_module_version": "1.2.0",
            "_view_name": "LayoutView",
            "align_content": null,
            "align_items": null,
            "align_self": null,
            "border": null,
            "bottom": null,
            "display": null,
            "flex": null,
            "flex_flow": null,
            "grid_area": null,
            "grid_auto_columns": null,
            "grid_auto_flow": null,
            "grid_auto_rows": null,
            "grid_column": null,
            "grid_gap": null,
            "grid_row": null,
            "grid_template_areas": null,
            "grid_template_columns": null,
            "grid_template_rows": null,
            "height": null,
            "justify_content": null,
            "justify_items": null,
            "left": null,
            "margin": null,
            "max_height": null,
            "max_width": null,
            "min_height": null,
            "min_width": null,
            "object_fit": null,
            "object_position": null,
            "order": null,
            "overflow": null,
            "overflow_x": null,
            "overflow_y": null,
            "padding": null,
            "right": null,
            "top": null,
            "visibility": null,
            "width": null
          }
        },
        "aaabb46d066a458fa75bb35111e8a93d": {
          "model_module": "@jupyter-widgets/controls",
          "model_name": "ProgressStyleModel",
          "model_module_version": "1.5.0",
          "state": {
            "_model_module": "@jupyter-widgets/controls",
            "_model_module_version": "1.5.0",
            "_model_name": "ProgressStyleModel",
            "_view_count": null,
            "_view_module": "@jupyter-widgets/base",
            "_view_module_version": "1.2.0",
            "_view_name": "StyleView",
            "bar_color": null,
            "description_width": ""
          }
        },
        "b85276ae765d498b8770af394ff007a0": {
          "model_module": "@jupyter-widgets/base",
          "model_name": "LayoutModel",
          "model_module_version": "1.2.0",
          "state": {
            "_model_module": "@jupyter-widgets/base",
            "_model_module_version": "1.2.0",
            "_model_name": "LayoutModel",
            "_view_count": null,
            "_view_module": "@jupyter-widgets/base",
            "_view_module_version": "1.2.0",
            "_view_name": "LayoutView",
            "align_content": null,
            "align_items": null,
            "align_self": null,
            "border": null,
            "bottom": null,
            "display": null,
            "flex": null,
            "flex_flow": null,
            "grid_area": null,
            "grid_auto_columns": null,
            "grid_auto_flow": null,
            "grid_auto_rows": null,
            "grid_column": null,
            "grid_gap": null,
            "grid_row": null,
            "grid_template_areas": null,
            "grid_template_columns": null,
            "grid_template_rows": null,
            "height": null,
            "justify_content": null,
            "justify_items": null,
            "left": null,
            "margin": null,
            "max_height": null,
            "max_width": null,
            "min_height": null,
            "min_width": null,
            "object_fit": null,
            "object_position": null,
            "order": null,
            "overflow": null,
            "overflow_x": null,
            "overflow_y": null,
            "padding": null,
            "right": null,
            "top": null,
            "visibility": null,
            "width": null
          }
        },
        "b66a9f34efcb427c9336fe99d0221393": {
          "model_module": "@jupyter-widgets/controls",
          "model_name": "DescriptionStyleModel",
          "model_module_version": "1.5.0",
          "state": {
            "_model_module": "@jupyter-widgets/controls",
            "_model_module_version": "1.5.0",
            "_model_name": "DescriptionStyleModel",
            "_view_count": null,
            "_view_module": "@jupyter-widgets/base",
            "_view_module_version": "1.2.0",
            "_view_name": "StyleView",
            "description_width": ""
          }
        },
        "523f3fd57d8549a1bbd0061485c0d087": {
          "model_module": "@jupyter-widgets/controls",
          "model_name": "HBoxModel",
          "model_module_version": "1.5.0",
          "state": {
            "_dom_classes": [],
            "_model_module": "@jupyter-widgets/controls",
            "_model_module_version": "1.5.0",
            "_model_name": "HBoxModel",
            "_view_count": null,
            "_view_module": "@jupyter-widgets/controls",
            "_view_module_version": "1.5.0",
            "_view_name": "HBoxView",
            "box_style": "",
            "children": [
              "IPY_MODEL_8d5e3f34c69f46658de68dbe90288b6c",
              "IPY_MODEL_a0c5c314eb234612a17e8589d85f4e38",
              "IPY_MODEL_dfcd1366d4a3427cb796335268f93352"
            ],
            "layout": "IPY_MODEL_9d508dc88cb74c3f924a36a808492175"
          }
        },
        "8d5e3f34c69f46658de68dbe90288b6c": {
          "model_module": "@jupyter-widgets/controls",
          "model_name": "HTMLModel",
          "model_module_version": "1.5.0",
          "state": {
            "_dom_classes": [],
            "_model_module": "@jupyter-widgets/controls",
            "_model_module_version": "1.5.0",
            "_model_name": "HTMLModel",
            "_view_count": null,
            "_view_module": "@jupyter-widgets/controls",
            "_view_module_version": "1.5.0",
            "_view_name": "HTMLView",
            "description": "",
            "description_tooltip": null,
            "layout": "IPY_MODEL_f5cc90893e184b5bbd0049039019c1cb",
            "placeholder": "​",
            "style": "IPY_MODEL_f59e6b434b2641ffb5d6db9cbed7679d",
            "value": "tokenizer.json: 100%"
          }
        },
        "a0c5c314eb234612a17e8589d85f4e38": {
          "model_module": "@jupyter-widgets/controls",
          "model_name": "FloatProgressModel",
          "model_module_version": "1.5.0",
          "state": {
            "_dom_classes": [],
            "_model_module": "@jupyter-widgets/controls",
            "_model_module_version": "1.5.0",
            "_model_name": "FloatProgressModel",
            "_view_count": null,
            "_view_module": "@jupyter-widgets/controls",
            "_view_module_version": "1.5.0",
            "_view_name": "ProgressView",
            "bar_style": "success",
            "description": "",
            "description_tooltip": null,
            "layout": "IPY_MODEL_bd487c5d5cae493a8243b6999181a5f5",
            "max": 1355256,
            "min": 0,
            "orientation": "horizontal",
            "style": "IPY_MODEL_e80d777993f9489984630e288b0af009",
            "value": 1355256
          }
        },
        "dfcd1366d4a3427cb796335268f93352": {
          "model_module": "@jupyter-widgets/controls",
          "model_name": "HTMLModel",
          "model_module_version": "1.5.0",
          "state": {
            "_dom_classes": [],
            "_model_module": "@jupyter-widgets/controls",
            "_model_module_version": "1.5.0",
            "_model_name": "HTMLModel",
            "_view_count": null,
            "_view_module": "@jupyter-widgets/controls",
            "_view_module_version": "1.5.0",
            "_view_name": "HTMLView",
            "description": "",
            "description_tooltip": null,
            "layout": "IPY_MODEL_92fe035d91cd4cb980663b5cb80be749",
            "placeholder": "​",
            "style": "IPY_MODEL_66521ad724f941628641f057a45f9486",
            "value": " 1.36M/1.36M [00:00&lt;00:00, 15.0MB/s]"
          }
        },
        "9d508dc88cb74c3f924a36a808492175": {
          "model_module": "@jupyter-widgets/base",
          "model_name": "LayoutModel",
          "model_module_version": "1.2.0",
          "state": {
            "_model_module": "@jupyter-widgets/base",
            "_model_module_version": "1.2.0",
            "_model_name": "LayoutModel",
            "_view_count": null,
            "_view_module": "@jupyter-widgets/base",
            "_view_module_version": "1.2.0",
            "_view_name": "LayoutView",
            "align_content": null,
            "align_items": null,
            "align_self": null,
            "border": null,
            "bottom": null,
            "display": null,
            "flex": null,
            "flex_flow": null,
            "grid_area": null,
            "grid_auto_columns": null,
            "grid_auto_flow": null,
            "grid_auto_rows": null,
            "grid_column": null,
            "grid_gap": null,
            "grid_row": null,
            "grid_template_areas": null,
            "grid_template_columns": null,
            "grid_template_rows": null,
            "height": null,
            "justify_content": null,
            "justify_items": null,
            "left": null,
            "margin": null,
            "max_height": null,
            "max_width": null,
            "min_height": null,
            "min_width": null,
            "object_fit": null,
            "object_position": null,
            "order": null,
            "overflow": null,
            "overflow_x": null,
            "overflow_y": null,
            "padding": null,
            "right": null,
            "top": null,
            "visibility": null,
            "width": null
          }
        },
        "f5cc90893e184b5bbd0049039019c1cb": {
          "model_module": "@jupyter-widgets/base",
          "model_name": "LayoutModel",
          "model_module_version": "1.2.0",
          "state": {
            "_model_module": "@jupyter-widgets/base",
            "_model_module_version": "1.2.0",
            "_model_name": "LayoutModel",
            "_view_count": null,
            "_view_module": "@jupyter-widgets/base",
            "_view_module_version": "1.2.0",
            "_view_name": "LayoutView",
            "align_content": null,
            "align_items": null,
            "align_self": null,
            "border": null,
            "bottom": null,
            "display": null,
            "flex": null,
            "flex_flow": null,
            "grid_area": null,
            "grid_auto_columns": null,
            "grid_auto_flow": null,
            "grid_auto_rows": null,
            "grid_column": null,
            "grid_gap": null,
            "grid_row": null,
            "grid_template_areas": null,
            "grid_template_columns": null,
            "grid_template_rows": null,
            "height": null,
            "justify_content": null,
            "justify_items": null,
            "left": null,
            "margin": null,
            "max_height": null,
            "max_width": null,
            "min_height": null,
            "min_width": null,
            "object_fit": null,
            "object_position": null,
            "order": null,
            "overflow": null,
            "overflow_x": null,
            "overflow_y": null,
            "padding": null,
            "right": null,
            "top": null,
            "visibility": null,
            "width": null
          }
        },
        "f59e6b434b2641ffb5d6db9cbed7679d": {
          "model_module": "@jupyter-widgets/controls",
          "model_name": "DescriptionStyleModel",
          "model_module_version": "1.5.0",
          "state": {
            "_model_module": "@jupyter-widgets/controls",
            "_model_module_version": "1.5.0",
            "_model_name": "DescriptionStyleModel",
            "_view_count": null,
            "_view_module": "@jupyter-widgets/base",
            "_view_module_version": "1.2.0",
            "_view_name": "StyleView",
            "description_width": ""
          }
        },
        "bd487c5d5cae493a8243b6999181a5f5": {
          "model_module": "@jupyter-widgets/base",
          "model_name": "LayoutModel",
          "model_module_version": "1.2.0",
          "state": {
            "_model_module": "@jupyter-widgets/base",
            "_model_module_version": "1.2.0",
            "_model_name": "LayoutModel",
            "_view_count": null,
            "_view_module": "@jupyter-widgets/base",
            "_view_module_version": "1.2.0",
            "_view_name": "LayoutView",
            "align_content": null,
            "align_items": null,
            "align_self": null,
            "border": null,
            "bottom": null,
            "display": null,
            "flex": null,
            "flex_flow": null,
            "grid_area": null,
            "grid_auto_columns": null,
            "grid_auto_flow": null,
            "grid_auto_rows": null,
            "grid_column": null,
            "grid_gap": null,
            "grid_row": null,
            "grid_template_areas": null,
            "grid_template_columns": null,
            "grid_template_rows": null,
            "height": null,
            "justify_content": null,
            "justify_items": null,
            "left": null,
            "margin": null,
            "max_height": null,
            "max_width": null,
            "min_height": null,
            "min_width": null,
            "object_fit": null,
            "object_position": null,
            "order": null,
            "overflow": null,
            "overflow_x": null,
            "overflow_y": null,
            "padding": null,
            "right": null,
            "top": null,
            "visibility": null,
            "width": null
          }
        },
        "e80d777993f9489984630e288b0af009": {
          "model_module": "@jupyter-widgets/controls",
          "model_name": "ProgressStyleModel",
          "model_module_version": "1.5.0",
          "state": {
            "_model_module": "@jupyter-widgets/controls",
            "_model_module_version": "1.5.0",
            "_model_name": "ProgressStyleModel",
            "_view_count": null,
            "_view_module": "@jupyter-widgets/base",
            "_view_module_version": "1.2.0",
            "_view_name": "StyleView",
            "bar_color": null,
            "description_width": ""
          }
        },
        "92fe035d91cd4cb980663b5cb80be749": {
          "model_module": "@jupyter-widgets/base",
          "model_name": "LayoutModel",
          "model_module_version": "1.2.0",
          "state": {
            "_model_module": "@jupyter-widgets/base",
            "_model_module_version": "1.2.0",
            "_model_name": "LayoutModel",
            "_view_count": null,
            "_view_module": "@jupyter-widgets/base",
            "_view_module_version": "1.2.0",
            "_view_name": "LayoutView",
            "align_content": null,
            "align_items": null,
            "align_self": null,
            "border": null,
            "bottom": null,
            "display": null,
            "flex": null,
            "flex_flow": null,
            "grid_area": null,
            "grid_auto_columns": null,
            "grid_auto_flow": null,
            "grid_auto_rows": null,
            "grid_column": null,
            "grid_gap": null,
            "grid_row": null,
            "grid_template_areas": null,
            "grid_template_columns": null,
            "grid_template_rows": null,
            "height": null,
            "justify_content": null,
            "justify_items": null,
            "left": null,
            "margin": null,
            "max_height": null,
            "max_width": null,
            "min_height": null,
            "min_width": null,
            "object_fit": null,
            "object_position": null,
            "order": null,
            "overflow": null,
            "overflow_x": null,
            "overflow_y": null,
            "padding": null,
            "right": null,
            "top": null,
            "visibility": null,
            "width": null
          }
        },
        "66521ad724f941628641f057a45f9486": {
          "model_module": "@jupyter-widgets/controls",
          "model_name": "DescriptionStyleModel",
          "model_module_version": "1.5.0",
          "state": {
            "_model_module": "@jupyter-widgets/controls",
            "_model_module_version": "1.5.0",
            "_model_name": "DescriptionStyleModel",
            "_view_count": null,
            "_view_module": "@jupyter-widgets/base",
            "_view_module_version": "1.2.0",
            "_view_name": "StyleView",
            "description_width": ""
          }
        },
        "d88db58eb4db42af8d83c2476338202d": {
          "model_module": "@jupyter-widgets/controls",
          "model_name": "HBoxModel",
          "model_module_version": "1.5.0",
          "state": {
            "_dom_classes": [],
            "_model_module": "@jupyter-widgets/controls",
            "_model_module_version": "1.5.0",
            "_model_name": "HBoxModel",
            "_view_count": null,
            "_view_module": "@jupyter-widgets/controls",
            "_view_module_version": "1.5.0",
            "_view_name": "HBoxView",
            "box_style": "",
            "children": [
              "IPY_MODEL_da3c5a2edfa24b9494d97a95ef3bb42f",
              "IPY_MODEL_d36e92c7d2a64260a476563b124f17c1",
              "IPY_MODEL_1a7ebc8027dd42cfbc4ca3ef337578e1"
            ],
            "layout": "IPY_MODEL_7fc829560a4c4d13bbc6b7508b90d74c"
          }
        },
        "da3c5a2edfa24b9494d97a95ef3bb42f": {
          "model_module": "@jupyter-widgets/controls",
          "model_name": "HTMLModel",
          "model_module_version": "1.5.0",
          "state": {
            "_dom_classes": [],
            "_model_module": "@jupyter-widgets/controls",
            "_model_module_version": "1.5.0",
            "_model_name": "HTMLModel",
            "_view_count": null,
            "_view_module": "@jupyter-widgets/controls",
            "_view_module_version": "1.5.0",
            "_view_name": "HTMLView",
            "description": "",
            "description_tooltip": null,
            "layout": "IPY_MODEL_df22a848a0094d0e82c75fa9ca8cee6d",
            "placeholder": "​",
            "style": "IPY_MODEL_3ae2a61b5f3e441db3c111e4dae1d769",
            "value": "config.json: 100%"
          }
        },
        "d36e92c7d2a64260a476563b124f17c1": {
          "model_module": "@jupyter-widgets/controls",
          "model_name": "FloatProgressModel",
          "model_module_version": "1.5.0",
          "state": {
            "_dom_classes": [],
            "_model_module": "@jupyter-widgets/controls",
            "_model_module_version": "1.5.0",
            "_model_name": "FloatProgressModel",
            "_view_count": null,
            "_view_module": "@jupyter-widgets/controls",
            "_view_module_version": "1.5.0",
            "_view_name": "ProgressView",
            "bar_style": "success",
            "description": "",
            "description_tooltip": null,
            "layout": "IPY_MODEL_685c519a97ba402384b87d2a3da711bd",
            "max": 762,
            "min": 0,
            "orientation": "horizontal",
            "style": "IPY_MODEL_f17462de1a494fd69dcec18da5322eaa",
            "value": 762
          }
        },
        "1a7ebc8027dd42cfbc4ca3ef337578e1": {
          "model_module": "@jupyter-widgets/controls",
          "model_name": "HTMLModel",
          "model_module_version": "1.5.0",
          "state": {
            "_dom_classes": [],
            "_model_module": "@jupyter-widgets/controls",
            "_model_module_version": "1.5.0",
            "_model_name": "HTMLModel",
            "_view_count": null,
            "_view_module": "@jupyter-widgets/controls",
            "_view_module_version": "1.5.0",
            "_view_name": "HTMLView",
            "description": "",
            "description_tooltip": null,
            "layout": "IPY_MODEL_1f311a5dde0648d391374cc4f67a0400",
            "placeholder": "​",
            "style": "IPY_MODEL_4279ed4a5a2b4ff3a2764ac47d1539e7",
            "value": " 762/762 [00:00&lt;00:00, 20.7kB/s]"
          }
        },
        "7fc829560a4c4d13bbc6b7508b90d74c": {
          "model_module": "@jupyter-widgets/base",
          "model_name": "LayoutModel",
          "model_module_version": "1.2.0",
          "state": {
            "_model_module": "@jupyter-widgets/base",
            "_model_module_version": "1.2.0",
            "_model_name": "LayoutModel",
            "_view_count": null,
            "_view_module": "@jupyter-widgets/base",
            "_view_module_version": "1.2.0",
            "_view_name": "LayoutView",
            "align_content": null,
            "align_items": null,
            "align_self": null,
            "border": null,
            "bottom": null,
            "display": null,
            "flex": null,
            "flex_flow": null,
            "grid_area": null,
            "grid_auto_columns": null,
            "grid_auto_flow": null,
            "grid_auto_rows": null,
            "grid_column": null,
            "grid_gap": null,
            "grid_row": null,
            "grid_template_areas": null,
            "grid_template_columns": null,
            "grid_template_rows": null,
            "height": null,
            "justify_content": null,
            "justify_items": null,
            "left": null,
            "margin": null,
            "max_height": null,
            "max_width": null,
            "min_height": null,
            "min_width": null,
            "object_fit": null,
            "object_position": null,
            "order": null,
            "overflow": null,
            "overflow_x": null,
            "overflow_y": null,
            "padding": null,
            "right": null,
            "top": null,
            "visibility": null,
            "width": null
          }
        },
        "df22a848a0094d0e82c75fa9ca8cee6d": {
          "model_module": "@jupyter-widgets/base",
          "model_name": "LayoutModel",
          "model_module_version": "1.2.0",
          "state": {
            "_model_module": "@jupyter-widgets/base",
            "_model_module_version": "1.2.0",
            "_model_name": "LayoutModel",
            "_view_count": null,
            "_view_module": "@jupyter-widgets/base",
            "_view_module_version": "1.2.0",
            "_view_name": "LayoutView",
            "align_content": null,
            "align_items": null,
            "align_self": null,
            "border": null,
            "bottom": null,
            "display": null,
            "flex": null,
            "flex_flow": null,
            "grid_area": null,
            "grid_auto_columns": null,
            "grid_auto_flow": null,
            "grid_auto_rows": null,
            "grid_column": null,
            "grid_gap": null,
            "grid_row": null,
            "grid_template_areas": null,
            "grid_template_columns": null,
            "grid_template_rows": null,
            "height": null,
            "justify_content": null,
            "justify_items": null,
            "left": null,
            "margin": null,
            "max_height": null,
            "max_width": null,
            "min_height": null,
            "min_width": null,
            "object_fit": null,
            "object_position": null,
            "order": null,
            "overflow": null,
            "overflow_x": null,
            "overflow_y": null,
            "padding": null,
            "right": null,
            "top": null,
            "visibility": null,
            "width": null
          }
        },
        "3ae2a61b5f3e441db3c111e4dae1d769": {
          "model_module": "@jupyter-widgets/controls",
          "model_name": "DescriptionStyleModel",
          "model_module_version": "1.5.0",
          "state": {
            "_model_module": "@jupyter-widgets/controls",
            "_model_module_version": "1.5.0",
            "_model_name": "DescriptionStyleModel",
            "_view_count": null,
            "_view_module": "@jupyter-widgets/base",
            "_view_module_version": "1.2.0",
            "_view_name": "StyleView",
            "description_width": ""
          }
        },
        "685c519a97ba402384b87d2a3da711bd": {
          "model_module": "@jupyter-widgets/base",
          "model_name": "LayoutModel",
          "model_module_version": "1.2.0",
          "state": {
            "_model_module": "@jupyter-widgets/base",
            "_model_module_version": "1.2.0",
            "_model_name": "LayoutModel",
            "_view_count": null,
            "_view_module": "@jupyter-widgets/base",
            "_view_module_version": "1.2.0",
            "_view_name": "LayoutView",
            "align_content": null,
            "align_items": null,
            "align_self": null,
            "border": null,
            "bottom": null,
            "display": null,
            "flex": null,
            "flex_flow": null,
            "grid_area": null,
            "grid_auto_columns": null,
            "grid_auto_flow": null,
            "grid_auto_rows": null,
            "grid_column": null,
            "grid_gap": null,
            "grid_row": null,
            "grid_template_areas": null,
            "grid_template_columns": null,
            "grid_template_rows": null,
            "height": null,
            "justify_content": null,
            "justify_items": null,
            "left": null,
            "margin": null,
            "max_height": null,
            "max_width": null,
            "min_height": null,
            "min_width": null,
            "object_fit": null,
            "object_position": null,
            "order": null,
            "overflow": null,
            "overflow_x": null,
            "overflow_y": null,
            "padding": null,
            "right": null,
            "top": null,
            "visibility": null,
            "width": null
          }
        },
        "f17462de1a494fd69dcec18da5322eaa": {
          "model_module": "@jupyter-widgets/controls",
          "model_name": "ProgressStyleModel",
          "model_module_version": "1.5.0",
          "state": {
            "_model_module": "@jupyter-widgets/controls",
            "_model_module_version": "1.5.0",
            "_model_name": "ProgressStyleModel",
            "_view_count": null,
            "_view_module": "@jupyter-widgets/base",
            "_view_module_version": "1.2.0",
            "_view_name": "StyleView",
            "bar_color": null,
            "description_width": ""
          }
        },
        "1f311a5dde0648d391374cc4f67a0400": {
          "model_module": "@jupyter-widgets/base",
          "model_name": "LayoutModel",
          "model_module_version": "1.2.0",
          "state": {
            "_model_module": "@jupyter-widgets/base",
            "_model_module_version": "1.2.0",
            "_model_name": "LayoutModel",
            "_view_count": null,
            "_view_module": "@jupyter-widgets/base",
            "_view_module_version": "1.2.0",
            "_view_name": "LayoutView",
            "align_content": null,
            "align_items": null,
            "align_self": null,
            "border": null,
            "bottom": null,
            "display": null,
            "flex": null,
            "flex_flow": null,
            "grid_area": null,
            "grid_auto_columns": null,
            "grid_auto_flow": null,
            "grid_auto_rows": null,
            "grid_column": null,
            "grid_gap": null,
            "grid_row": null,
            "grid_template_areas": null,
            "grid_template_columns": null,
            "grid_template_rows": null,
            "height": null,
            "justify_content": null,
            "justify_items": null,
            "left": null,
            "margin": null,
            "max_height": null,
            "max_width": null,
            "min_height": null,
            "min_width": null,
            "object_fit": null,
            "object_position": null,
            "order": null,
            "overflow": null,
            "overflow_x": null,
            "overflow_y": null,
            "padding": null,
            "right": null,
            "top": null,
            "visibility": null,
            "width": null
          }
        },
        "4279ed4a5a2b4ff3a2764ac47d1539e7": {
          "model_module": "@jupyter-widgets/controls",
          "model_name": "DescriptionStyleModel",
          "model_module_version": "1.5.0",
          "state": {
            "_model_module": "@jupyter-widgets/controls",
            "_model_module_version": "1.5.0",
            "_model_name": "DescriptionStyleModel",
            "_view_count": null,
            "_view_module": "@jupyter-widgets/base",
            "_view_module_version": "1.2.0",
            "_view_name": "StyleView",
            "description_width": ""
          }
        },
        "e9fe5e3dc7aa48f1a5bba43e540b5bf1": {
          "model_module": "@jupyter-widgets/controls",
          "model_name": "HBoxModel",
          "model_module_version": "1.5.0",
          "state": {
            "_dom_classes": [],
            "_model_module": "@jupyter-widgets/controls",
            "_model_module_version": "1.5.0",
            "_model_name": "HBoxModel",
            "_view_count": null,
            "_view_module": "@jupyter-widgets/controls",
            "_view_module_version": "1.5.0",
            "_view_name": "HBoxView",
            "box_style": "",
            "children": [
              "IPY_MODEL_e9cd07d279bd42c584830f7b87ae3650",
              "IPY_MODEL_e8572dd4a4614731ae6d6a1c08de00f1",
              "IPY_MODEL_2dbda974a7e440d5807e7aac00eb41c0"
            ],
            "layout": "IPY_MODEL_dd312d58e62c4e5db90ffd03e6ddaa78"
          }
        },
        "e9cd07d279bd42c584830f7b87ae3650": {
          "model_module": "@jupyter-widgets/controls",
          "model_name": "HTMLModel",
          "model_module_version": "1.5.0",
          "state": {
            "_dom_classes": [],
            "_model_module": "@jupyter-widgets/controls",
            "_model_module_version": "1.5.0",
            "_model_name": "HTMLModel",
            "_view_count": null,
            "_view_module": "@jupyter-widgets/controls",
            "_view_module_version": "1.5.0",
            "_view_name": "HTMLView",
            "description": "",
            "description_tooltip": null,
            "layout": "IPY_MODEL_9c282dd1f88d4107909eaeee947e061e",
            "placeholder": "​",
            "style": "IPY_MODEL_40578c4087304d25b2b689a3fe7010e8",
            "value": "model.safetensors: 100%"
          }
        },
        "e8572dd4a4614731ae6d6a1c08de00f1": {
          "model_module": "@jupyter-widgets/controls",
          "model_name": "FloatProgressModel",
          "model_module_version": "1.5.0",
          "state": {
            "_dom_classes": [],
            "_model_module": "@jupyter-widgets/controls",
            "_model_module_version": "1.5.0",
            "_model_name": "FloatProgressModel",
            "_view_count": null,
            "_view_module": "@jupyter-widgets/controls",
            "_view_module_version": "1.5.0",
            "_view_name": "ProgressView",
            "bar_style": "success",
            "description": "",
            "description_tooltip": null,
            "layout": "IPY_MODEL_23c7fcf3c185461a99f3b8023dd3eeb6",
            "max": 352824413,
            "min": 0,
            "orientation": "horizontal",
            "style": "IPY_MODEL_ec6dcdcde67d471e8ad9bb1b6a3a9e2c",
            "value": 352824413
          }
        },
        "2dbda974a7e440d5807e7aac00eb41c0": {
          "model_module": "@jupyter-widgets/controls",
          "model_name": "HTMLModel",
          "model_module_version": "1.5.0",
          "state": {
            "_dom_classes": [],
            "_model_module": "@jupyter-widgets/controls",
            "_model_module_version": "1.5.0",
            "_model_name": "HTMLModel",
            "_view_count": null,
            "_view_module": "@jupyter-widgets/controls",
            "_view_module_version": "1.5.0",
            "_view_name": "HTMLView",
            "description": "",
            "description_tooltip": null,
            "layout": "IPY_MODEL_17e901f80e614aa7b2a31099f50d9e76",
            "placeholder": "​",
            "style": "IPY_MODEL_f8490076106340b1b2ae3d33c90cf909",
            "value": " 353M/353M [00:06&lt;00:00, 45.8MB/s]"
          }
        },
        "dd312d58e62c4e5db90ffd03e6ddaa78": {
          "model_module": "@jupyter-widgets/base",
          "model_name": "LayoutModel",
          "model_module_version": "1.2.0",
          "state": {
            "_model_module": "@jupyter-widgets/base",
            "_model_module_version": "1.2.0",
            "_model_name": "LayoutModel",
            "_view_count": null,
            "_view_module": "@jupyter-widgets/base",
            "_view_module_version": "1.2.0",
            "_view_name": "LayoutView",
            "align_content": null,
            "align_items": null,
            "align_self": null,
            "border": null,
            "bottom": null,
            "display": null,
            "flex": null,
            "flex_flow": null,
            "grid_area": null,
            "grid_auto_columns": null,
            "grid_auto_flow": null,
            "grid_auto_rows": null,
            "grid_column": null,
            "grid_gap": null,
            "grid_row": null,
            "grid_template_areas": null,
            "grid_template_columns": null,
            "grid_template_rows": null,
            "height": null,
            "justify_content": null,
            "justify_items": null,
            "left": null,
            "margin": null,
            "max_height": null,
            "max_width": null,
            "min_height": null,
            "min_width": null,
            "object_fit": null,
            "object_position": null,
            "order": null,
            "overflow": null,
            "overflow_x": null,
            "overflow_y": null,
            "padding": null,
            "right": null,
            "top": null,
            "visibility": null,
            "width": null
          }
        },
        "9c282dd1f88d4107909eaeee947e061e": {
          "model_module": "@jupyter-widgets/base",
          "model_name": "LayoutModel",
          "model_module_version": "1.2.0",
          "state": {
            "_model_module": "@jupyter-widgets/base",
            "_model_module_version": "1.2.0",
            "_model_name": "LayoutModel",
            "_view_count": null,
            "_view_module": "@jupyter-widgets/base",
            "_view_module_version": "1.2.0",
            "_view_name": "LayoutView",
            "align_content": null,
            "align_items": null,
            "align_self": null,
            "border": null,
            "bottom": null,
            "display": null,
            "flex": null,
            "flex_flow": null,
            "grid_area": null,
            "grid_auto_columns": null,
            "grid_auto_flow": null,
            "grid_auto_rows": null,
            "grid_column": null,
            "grid_gap": null,
            "grid_row": null,
            "grid_template_areas": null,
            "grid_template_columns": null,
            "grid_template_rows": null,
            "height": null,
            "justify_content": null,
            "justify_items": null,
            "left": null,
            "margin": null,
            "max_height": null,
            "max_width": null,
            "min_height": null,
            "min_width": null,
            "object_fit": null,
            "object_position": null,
            "order": null,
            "overflow": null,
            "overflow_x": null,
            "overflow_y": null,
            "padding": null,
            "right": null,
            "top": null,
            "visibility": null,
            "width": null
          }
        },
        "40578c4087304d25b2b689a3fe7010e8": {
          "model_module": "@jupyter-widgets/controls",
          "model_name": "DescriptionStyleModel",
          "model_module_version": "1.5.0",
          "state": {
            "_model_module": "@jupyter-widgets/controls",
            "_model_module_version": "1.5.0",
            "_model_name": "DescriptionStyleModel",
            "_view_count": null,
            "_view_module": "@jupyter-widgets/base",
            "_view_module_version": "1.2.0",
            "_view_name": "StyleView",
            "description_width": ""
          }
        },
        "23c7fcf3c185461a99f3b8023dd3eeb6": {
          "model_module": "@jupyter-widgets/base",
          "model_name": "LayoutModel",
          "model_module_version": "1.2.0",
          "state": {
            "_model_module": "@jupyter-widgets/base",
            "_model_module_version": "1.2.0",
            "_model_name": "LayoutModel",
            "_view_count": null,
            "_view_module": "@jupyter-widgets/base",
            "_view_module_version": "1.2.0",
            "_view_name": "LayoutView",
            "align_content": null,
            "align_items": null,
            "align_self": null,
            "border": null,
            "bottom": null,
            "display": null,
            "flex": null,
            "flex_flow": null,
            "grid_area": null,
            "grid_auto_columns": null,
            "grid_auto_flow": null,
            "grid_auto_rows": null,
            "grid_column": null,
            "grid_gap": null,
            "grid_row": null,
            "grid_template_areas": null,
            "grid_template_columns": null,
            "grid_template_rows": null,
            "height": null,
            "justify_content": null,
            "justify_items": null,
            "left": null,
            "margin": null,
            "max_height": null,
            "max_width": null,
            "min_height": null,
            "min_width": null,
            "object_fit": null,
            "object_position": null,
            "order": null,
            "overflow": null,
            "overflow_x": null,
            "overflow_y": null,
            "padding": null,
            "right": null,
            "top": null,
            "visibility": null,
            "width": null
          }
        },
        "ec6dcdcde67d471e8ad9bb1b6a3a9e2c": {
          "model_module": "@jupyter-widgets/controls",
          "model_name": "ProgressStyleModel",
          "model_module_version": "1.5.0",
          "state": {
            "_model_module": "@jupyter-widgets/controls",
            "_model_module_version": "1.5.0",
            "_model_name": "ProgressStyleModel",
            "_view_count": null,
            "_view_module": "@jupyter-widgets/base",
            "_view_module_version": "1.2.0",
            "_view_name": "StyleView",
            "bar_color": null,
            "description_width": ""
          }
        },
        "17e901f80e614aa7b2a31099f50d9e76": {
          "model_module": "@jupyter-widgets/base",
          "model_name": "LayoutModel",
          "model_module_version": "1.2.0",
          "state": {
            "_model_module": "@jupyter-widgets/base",
            "_model_module_version": "1.2.0",
            "_model_name": "LayoutModel",
            "_view_count": null,
            "_view_module": "@jupyter-widgets/base",
            "_view_module_version": "1.2.0",
            "_view_name": "LayoutView",
            "align_content": null,
            "align_items": null,
            "align_self": null,
            "border": null,
            "bottom": null,
            "display": null,
            "flex": null,
            "flex_flow": null,
            "grid_area": null,
            "grid_auto_columns": null,
            "grid_auto_flow": null,
            "grid_auto_rows": null,
            "grid_column": null,
            "grid_gap": null,
            "grid_row": null,
            "grid_template_areas": null,
            "grid_template_columns": null,
            "grid_template_rows": null,
            "height": null,
            "justify_content": null,
            "justify_items": null,
            "left": null,
            "margin": null,
            "max_height": null,
            "max_width": null,
            "min_height": null,
            "min_width": null,
            "object_fit": null,
            "object_position": null,
            "order": null,
            "overflow": null,
            "overflow_x": null,
            "overflow_y": null,
            "padding": null,
            "right": null,
            "top": null,
            "visibility": null,
            "width": null
          }
        },
        "f8490076106340b1b2ae3d33c90cf909": {
          "model_module": "@jupyter-widgets/controls",
          "model_name": "DescriptionStyleModel",
          "model_module_version": "1.5.0",
          "state": {
            "_model_module": "@jupyter-widgets/controls",
            "_model_module_version": "1.5.0",
            "_model_name": "DescriptionStyleModel",
            "_view_count": null,
            "_view_module": "@jupyter-widgets/base",
            "_view_module_version": "1.2.0",
            "_view_name": "StyleView",
            "description_width": ""
          }
        },
        "d323f102834d45beb05d8b56aa4ecc1f": {
          "model_module": "@jupyter-widgets/controls",
          "model_name": "HBoxModel",
          "model_module_version": "1.5.0",
          "state": {
            "_dom_classes": [],
            "_model_module": "@jupyter-widgets/controls",
            "_model_module_version": "1.5.0",
            "_model_name": "HBoxModel",
            "_view_count": null,
            "_view_module": "@jupyter-widgets/controls",
            "_view_module_version": "1.5.0",
            "_view_name": "HBoxView",
            "box_style": "",
            "children": [
              "IPY_MODEL_f946ecc4b09a4714889af31d36a2533c",
              "IPY_MODEL_5ca2684f6087484bbb52dc4fda5f8236",
              "IPY_MODEL_4dbe74c3d6d94b319e531dcc6a35cd37"
            ],
            "layout": "IPY_MODEL_958311d4ca4048b8adb1e3a5c703f1d0"
          }
        },
        "f946ecc4b09a4714889af31d36a2533c": {
          "model_module": "@jupyter-widgets/controls",
          "model_name": "HTMLModel",
          "model_module_version": "1.5.0",
          "state": {
            "_dom_classes": [],
            "_model_module": "@jupyter-widgets/controls",
            "_model_module_version": "1.5.0",
            "_model_name": "HTMLModel",
            "_view_count": null,
            "_view_module": "@jupyter-widgets/controls",
            "_view_module_version": "1.5.0",
            "_view_name": "HTMLView",
            "description": "",
            "description_tooltip": null,
            "layout": "IPY_MODEL_060dd7850adf43b79b449a786987a748",
            "placeholder": "​",
            "style": "IPY_MODEL_9061ca844dec41dca840c08d08ba3a11",
            "value": "generation_config.json: 100%"
          }
        },
        "5ca2684f6087484bbb52dc4fda5f8236": {
          "model_module": "@jupyter-widgets/controls",
          "model_name": "FloatProgressModel",
          "model_module_version": "1.5.0",
          "state": {
            "_dom_classes": [],
            "_model_module": "@jupyter-widgets/controls",
            "_model_module_version": "1.5.0",
            "_model_name": "FloatProgressModel",
            "_view_count": null,
            "_view_module": "@jupyter-widgets/controls",
            "_view_module_version": "1.5.0",
            "_view_name": "ProgressView",
            "bar_style": "success",
            "description": "",
            "description_tooltip": null,
            "layout": "IPY_MODEL_cf527091edd7487b9ee3a2394b0146bb",
            "max": 124,
            "min": 0,
            "orientation": "horizontal",
            "style": "IPY_MODEL_cecb1437f107427fa99b0c7352adad2a",
            "value": 124
          }
        },
        "4dbe74c3d6d94b319e531dcc6a35cd37": {
          "model_module": "@jupyter-widgets/controls",
          "model_name": "HTMLModel",
          "model_module_version": "1.5.0",
          "state": {
            "_dom_classes": [],
            "_model_module": "@jupyter-widgets/controls",
            "_model_module_version": "1.5.0",
            "_model_name": "HTMLModel",
            "_view_count": null,
            "_view_module": "@jupyter-widgets/controls",
            "_view_module_version": "1.5.0",
            "_view_name": "HTMLView",
            "description": "",
            "description_tooltip": null,
            "layout": "IPY_MODEL_f6781283b7bf42679b54ce437455e228",
            "placeholder": "​",
            "style": "IPY_MODEL_51eaad22c62d418c9c33e20dcaea5288",
            "value": " 124/124 [00:00&lt;00:00, 3.43kB/s]"
          }
        },
        "958311d4ca4048b8adb1e3a5c703f1d0": {
          "model_module": "@jupyter-widgets/base",
          "model_name": "LayoutModel",
          "model_module_version": "1.2.0",
          "state": {
            "_model_module": "@jupyter-widgets/base",
            "_model_module_version": "1.2.0",
            "_model_name": "LayoutModel",
            "_view_count": null,
            "_view_module": "@jupyter-widgets/base",
            "_view_module_version": "1.2.0",
            "_view_name": "LayoutView",
            "align_content": null,
            "align_items": null,
            "align_self": null,
            "border": null,
            "bottom": null,
            "display": null,
            "flex": null,
            "flex_flow": null,
            "grid_area": null,
            "grid_auto_columns": null,
            "grid_auto_flow": null,
            "grid_auto_rows": null,
            "grid_column": null,
            "grid_gap": null,
            "grid_row": null,
            "grid_template_areas": null,
            "grid_template_columns": null,
            "grid_template_rows": null,
            "height": null,
            "justify_content": null,
            "justify_items": null,
            "left": null,
            "margin": null,
            "max_height": null,
            "max_width": null,
            "min_height": null,
            "min_width": null,
            "object_fit": null,
            "object_position": null,
            "order": null,
            "overflow": null,
            "overflow_x": null,
            "overflow_y": null,
            "padding": null,
            "right": null,
            "top": null,
            "visibility": null,
            "width": null
          }
        },
        "060dd7850adf43b79b449a786987a748": {
          "model_module": "@jupyter-widgets/base",
          "model_name": "LayoutModel",
          "model_module_version": "1.2.0",
          "state": {
            "_model_module": "@jupyter-widgets/base",
            "_model_module_version": "1.2.0",
            "_model_name": "LayoutModel",
            "_view_count": null,
            "_view_module": "@jupyter-widgets/base",
            "_view_module_version": "1.2.0",
            "_view_name": "LayoutView",
            "align_content": null,
            "align_items": null,
            "align_self": null,
            "border": null,
            "bottom": null,
            "display": null,
            "flex": null,
            "flex_flow": null,
            "grid_area": null,
            "grid_auto_columns": null,
            "grid_auto_flow": null,
            "grid_auto_rows": null,
            "grid_column": null,
            "grid_gap": null,
            "grid_row": null,
            "grid_template_areas": null,
            "grid_template_columns": null,
            "grid_template_rows": null,
            "height": null,
            "justify_content": null,
            "justify_items": null,
            "left": null,
            "margin": null,
            "max_height": null,
            "max_width": null,
            "min_height": null,
            "min_width": null,
            "object_fit": null,
            "object_position": null,
            "order": null,
            "overflow": null,
            "overflow_x": null,
            "overflow_y": null,
            "padding": null,
            "right": null,
            "top": null,
            "visibility": null,
            "width": null
          }
        },
        "9061ca844dec41dca840c08d08ba3a11": {
          "model_module": "@jupyter-widgets/controls",
          "model_name": "DescriptionStyleModel",
          "model_module_version": "1.5.0",
          "state": {
            "_model_module": "@jupyter-widgets/controls",
            "_model_module_version": "1.5.0",
            "_model_name": "DescriptionStyleModel",
            "_view_count": null,
            "_view_module": "@jupyter-widgets/base",
            "_view_module_version": "1.2.0",
            "_view_name": "StyleView",
            "description_width": ""
          }
        },
        "cf527091edd7487b9ee3a2394b0146bb": {
          "model_module": "@jupyter-widgets/base",
          "model_name": "LayoutModel",
          "model_module_version": "1.2.0",
          "state": {
            "_model_module": "@jupyter-widgets/base",
            "_model_module_version": "1.2.0",
            "_model_name": "LayoutModel",
            "_view_count": null,
            "_view_module": "@jupyter-widgets/base",
            "_view_module_version": "1.2.0",
            "_view_name": "LayoutView",
            "align_content": null,
            "align_items": null,
            "align_self": null,
            "border": null,
            "bottom": null,
            "display": null,
            "flex": null,
            "flex_flow": null,
            "grid_area": null,
            "grid_auto_columns": null,
            "grid_auto_flow": null,
            "grid_auto_rows": null,
            "grid_column": null,
            "grid_gap": null,
            "grid_row": null,
            "grid_template_areas": null,
            "grid_template_columns": null,
            "grid_template_rows": null,
            "height": null,
            "justify_content": null,
            "justify_items": null,
            "left": null,
            "margin": null,
            "max_height": null,
            "max_width": null,
            "min_height": null,
            "min_width": null,
            "object_fit": null,
            "object_position": null,
            "order": null,
            "overflow": null,
            "overflow_x": null,
            "overflow_y": null,
            "padding": null,
            "right": null,
            "top": null,
            "visibility": null,
            "width": null
          }
        },
        "cecb1437f107427fa99b0c7352adad2a": {
          "model_module": "@jupyter-widgets/controls",
          "model_name": "ProgressStyleModel",
          "model_module_version": "1.5.0",
          "state": {
            "_model_module": "@jupyter-widgets/controls",
            "_model_module_version": "1.5.0",
            "_model_name": "ProgressStyleModel",
            "_view_count": null,
            "_view_module": "@jupyter-widgets/base",
            "_view_module_version": "1.2.0",
            "_view_name": "StyleView",
            "bar_color": null,
            "description_width": ""
          }
        },
        "f6781283b7bf42679b54ce437455e228": {
          "model_module": "@jupyter-widgets/base",
          "model_name": "LayoutModel",
          "model_module_version": "1.2.0",
          "state": {
            "_model_module": "@jupyter-widgets/base",
            "_model_module_version": "1.2.0",
            "_model_name": "LayoutModel",
            "_view_count": null,
            "_view_module": "@jupyter-widgets/base",
            "_view_module_version": "1.2.0",
            "_view_name": "LayoutView",
            "align_content": null,
            "align_items": null,
            "align_self": null,
            "border": null,
            "bottom": null,
            "display": null,
            "flex": null,
            "flex_flow": null,
            "grid_area": null,
            "grid_auto_columns": null,
            "grid_auto_flow": null,
            "grid_auto_rows": null,
            "grid_column": null,
            "grid_gap": null,
            "grid_row": null,
            "grid_template_areas": null,
            "grid_template_columns": null,
            "grid_template_rows": null,
            "height": null,
            "justify_content": null,
            "justify_items": null,
            "left": null,
            "margin": null,
            "max_height": null,
            "max_width": null,
            "min_height": null,
            "min_width": null,
            "object_fit": null,
            "object_position": null,
            "order": null,
            "overflow": null,
            "overflow_x": null,
            "overflow_y": null,
            "padding": null,
            "right": null,
            "top": null,
            "visibility": null,
            "width": null
          }
        },
        "51eaad22c62d418c9c33e20dcaea5288": {
          "model_module": "@jupyter-widgets/controls",
          "model_name": "DescriptionStyleModel",
          "model_module_version": "1.5.0",
          "state": {
            "_model_module": "@jupyter-widgets/controls",
            "_model_module_version": "1.5.0",
            "_model_name": "DescriptionStyleModel",
            "_view_count": null,
            "_view_module": "@jupyter-widgets/base",
            "_view_module_version": "1.2.0",
            "_view_name": "StyleView",
            "description_width": ""
          }
        }
      }
    }
  },
  "cells": [
    {
      "cell_type": "markdown",
      "source": [
        "***21.Extract_Keywords__using_TF-IDF***"
      ],
      "metadata": {
        "id": "2s7is4WvKx83"
      }
    },
    {
      "cell_type": "code",
      "execution_count": 1,
      "metadata": {
        "colab": {
          "base_uri": "https://localhost:8080/"
        },
        "id": "vKSGn50uG8FG",
        "outputId": "93a1ceb2-f637-4d9f-a526-32bc92968651"
      },
      "outputs": [
        {
          "output_type": "stream",
          "name": "stdout",
          "text": [
            "Sentence 1: Key Phrases - intelligence, artificial, science\n",
            "Sentence 2: Key Phrases - models, predictions, focuses\n",
            "Sentence 3: Key Phrases - learning, deep, layers\n",
            "Sentence 4: Key Phrases - nodes, called, composed\n",
            "Sentence 5: Key Phrases - language, tasks, commonly\n"
          ]
        }
      ],
      "source": [
        "from sklearn.feature_extraction.text import TfidfVectorizer\n",
        "\n",
        "sentences = [\n",
        "    \"Artificial intelligence (AI) is a field of computer science.\",\n",
        "    \"Machine learning is a subset of AI that focuses on training models to make predictions.\",\n",
        "    \"Deep learning is a type of machine learning that uses neural networks with multiple layers.\",\n",
        "    \"Neural networks are composed of interconnected nodes called neurons.\",\n",
        "    \"Recurrent neural networks (RNNs) are commonly used in natural language processing tasks.\",\n",
        "]\n",
        "\n",
        "tfidf_vectorizer = TfidfVectorizer(stop_words='english')\n",
        "\n",
        "tfidf_matrix = tfidf_vectorizer.fit_transform(sentences)\n",
        "\n",
        "feature_names = tfidf_vectorizer.get_feature_names_out()\n",
        "\n",
        "key_phrases = []\n",
        "for i, sentence in enumerate(sentences):\n",
        "    scores = tfidf_matrix[i].toarray().flatten()\n",
        "    top_indices = scores.argsort()[-3:][::-1]\n",
        "    top_words = [feature_names[idx] for idx in top_indices]\n",
        "    key_phrases.append(top_words)\n",
        "\n",
        "for i, key_phrase in enumerate(key_phrases):\n",
        "    print(f\"Sentence {i + 1}: Key Phrases - {', '.join(key_phrase)}\")\n"
      ]
    },
    {
      "cell_type": "markdown",
      "source": [
        "***22.Entity_mention_using_wikipediaapi***"
      ],
      "metadata": {
        "id": "CFLr5lC8Ky7R"
      }
    },
    {
      "cell_type": "code",
      "source": [
        "!pip install wikipedia-api\n",
        "!pip install requests"
      ],
      "metadata": {
        "colab": {
          "base_uri": "https://localhost:8080/"
        },
        "id": "yRXRQ09bG_Vp",
        "outputId": "8d5b9444-1c87-4475-a7d7-b5484cb7b4fd"
      },
      "execution_count": 2,
      "outputs": [
        {
          "output_type": "stream",
          "name": "stdout",
          "text": [
            "Collecting wikipedia-api\n",
            "  Downloading Wikipedia_API-0.6.0-py3-none-any.whl (14 kB)\n",
            "Requirement already satisfied: requests in /usr/local/lib/python3.10/dist-packages (from wikipedia-api) (2.31.0)\n",
            "Requirement already satisfied: charset-normalizer<4,>=2 in /usr/local/lib/python3.10/dist-packages (from requests->wikipedia-api) (3.3.2)\n",
            "Requirement already satisfied: idna<4,>=2.5 in /usr/local/lib/python3.10/dist-packages (from requests->wikipedia-api) (3.4)\n",
            "Requirement already satisfied: urllib3<3,>=1.21.1 in /usr/local/lib/python3.10/dist-packages (from requests->wikipedia-api) (2.0.7)\n",
            "Requirement already satisfied: certifi>=2017.4.17 in /usr/local/lib/python3.10/dist-packages (from requests->wikipedia-api) (2023.7.22)\n",
            "Installing collected packages: wikipedia-api\n",
            "Successfully installed wikipedia-api-0.6.0\n",
            "Requirement already satisfied: requests in /usr/local/lib/python3.10/dist-packages (2.31.0)\n",
            "Requirement already satisfied: charset-normalizer<4,>=2 in /usr/local/lib/python3.10/dist-packages (from requests) (3.3.2)\n",
            "Requirement already satisfied: idna<4,>=2.5 in /usr/local/lib/python3.10/dist-packages (from requests) (3.4)\n",
            "Requirement already satisfied: urllib3<3,>=1.21.1 in /usr/local/lib/python3.10/dist-packages (from requests) (2.0.7)\n",
            "Requirement already satisfied: certifi>=2017.4.17 in /usr/local/lib/python3.10/dist-packages (from requests) (2023.7.22)\n"
          ]
        }
      ]
    },
    {
      "cell_type": "code",
      "source": [
        "import wikipediaapi\n",
        "import requests\n",
        "\n",
        "sentences = [\n",
        "    \"Apple is a leading tech company.\",\n",
        "    \"I love apples as a fruit.\",\n",
        "    \"Python is a popular programming language.\",\n",
        "    \"The python is a non-venomous snake.\"\n",
        "]\n",
        "\n",
        "headers = {\n",
        "    'User-Agent': 'My_User_Agent/1.0 (Your_Name_or_Application_Name)'\n",
        "}\n",
        "\n",
        "wiki_wiki = wikipediaapi.Wikipedia('en', headers=headers)\n",
        "\n",
        "def disambiguate_entities(sentences):\n",
        "    for sentence in sentences:\n",
        "        words = sentence.split()\n",
        "        for word in words:\n",
        "            page = wiki_wiki.page(word)\n",
        "            if page.exists():\n",
        "                print(f\"Entity Mention: {word}\")\n",
        "                print(f\"Corresponding Wikipedia Entity: {page.fullurl}\")\n",
        "                print(f\"Summary: {page.summary}\")\n",
        "                print(\"\")\n",
        "\n",
        "disambiguate_entities(sentences)"
      ],
      "metadata": {
        "colab": {
          "base_uri": "https://localhost:8080/"
        },
        "id": "_I3CfmBPHHic",
        "outputId": "4cac02b2-3b23-441c-fc52-520e01a44083"
      },
      "execution_count": 37,
      "outputs": [
        {
          "output_type": "stream",
          "name": "stdout",
          "text": [
            "Entity Mention: Apple\n",
            "Corresponding Wikipedia Entity: https://en.wikipedia.org/wiki/Apple\n",
            "Summary: An apple is a round, edible fruit produced by an apple tree (Malus spp., among them the domestic or orchard apple; Malus domestica). Apple trees are cultivated worldwide and are the most widely grown species in the genus Malus. The tree originated in Central Asia, where its wild ancestor, Malus sieversii, is still found. Apples have been grown for thousands of years in Asia and Europe and were introduced to North America by European colonists. Apples have religious and mythological significance in many cultures, including Norse, Greek, and European Christian tradition.\n",
            "Apples grown from seed tend to be very different from those of their parents, and the resultant fruit frequently lacks desired characteristics. For commercial purposes, including botanical evaluation, apple cultivars are propagated by clonal grafting onto rootstocks. Apple trees grown without rootstocks tend to be larger and much slower to fruit after planting. Rootstocks are used to control the speed of growth and the size of the resulting tree, allowing for easier harvesting.\n",
            "There are more than 7,500 cultivars of apples. Different cultivars are bred for various tastes and uses, including cooking, eating raw, and cider or apple juice production. Trees and fruit are prone to fungal, bacterial, and pest problems, which can be controlled by a number of organic and non-organic means. In 2010, the fruit's genome was sequenced as part of research on disease control and selective breeding in apple production.\n",
            "Worldwide production of apples in 2021 was 93 million tonnes, with China accounting for nearly half of the total.\n",
            "\n",
            "Entity Mention: is\n",
            "Corresponding Wikipedia Entity: https://en.wikipedia.org/wiki/Copula_(linguistics)\n",
            "Summary: In linguistics, a copula (plural: copulas or copulae; abbreviated cop) is a word or phrase that links the subject of a sentence to a subject complement, such as the word is in the sentence \"The sky is blue\" or the phrase was not being in the sentence \"It was not being co-operative.\" The word copula derives from the Latin noun for a \"link\" or \"tie\" that connects two different things.A copula is often a verb or a verb-like word, though this is not universally the case. A verb that is a copula is sometimes called a copulative or copular verb. In English primary education grammar courses, a copula is often called a linking verb. In other languages, copulas show more resemblances to pronouns, as in Classical Chinese and Guarani, or may take the form of suffixes attached to a noun, as in Korean, Beja, and Inuit languages.\n",
            "Most languages have one main copula (in English, the verb \"to be\"), although some (like Spanish, Portuguese and Thai) have more than one, while others have none. While the term copula is generally used to refer to such principal verbs, it may also be used for a wider group of verbs with similar potential functions (like become, get, feel and seem in English); alternatively, these might be distinguished as \"semi-copulas\" or \"pseudo-copulas\".\n",
            "\n",
            "Entity Mention: a\n",
            "Corresponding Wikipedia Entity: https://en.wikipedia.org/wiki/A\n",
            "Summary: A, or a, is the first letter and the first vowel of the Latin alphabet, used in the modern English alphabet, the alphabets of other western European languages and others worldwide. Its name in English is a (pronounced ), plural aes. It is similar in shape to the Ancient Greek letter Alpha, from which it derives. The uppercase version consists of the two slanting sides of a triangle, crossed in the middle by a horizontal bar. The lowercase version can be written in two forms: the double-storey a and single-storey ɑ. The latter is commonly used in handwriting and fonts based on it, especially fonts intended to be read by children, and is also found in italic type.\n",
            "In English grammar, \"a\", and its variant \"an\", are indefinite articles.\n",
            "\n",
            "Entity Mention: leading\n",
            "Corresponding Wikipedia Entity: https://en.wikipedia.org/wiki/Leading\n",
            "Summary: In typography, leading ( LED-ing) is the space between adjacent lines of type; the exact definition varies.\n",
            "In hand typesetting, leading is the thin strips of lead (or aluminium) that were inserted between lines of type in the composing stick to increase the vertical distance between them. The thickness of the strip is called leading and is equal to the difference between the size of the type and the distance from one baseline to the next. For instance, given a type size of 10 points and a distance between baselines of 12 points, the leading would be 2 points.\n",
            "The term is still used in modern page-layout software such as QuarkXPress, the Affinity Suite, and Adobe InDesign. Consumer-oriented word-processing software often talks of line spacing or, more accurately, interline spacing.\n",
            "\n",
            "Entity Mention: tech\n",
            "Corresponding Wikipedia Entity: https://en.wikipedia.org/wiki/Tech\n",
            "Summary: Tech or The Tech may refer to:\n",
            "\n",
            "An abbreviation of technology or technician\n",
            "Tech Dinghy, an American sailing dinghy developed at MIT\n",
            "Tech (mascot), the mascot of Louisiana Tech University, U.S.\n",
            "Tech (river), in southern France\n",
            "\"Tech\" (Smash), a 2012 episode of TV series Smash\n",
            "The Tech (newspaper), newspaper at the Massachusetts Institute of Technology\n",
            "The Tech Interactive, formerly The Tech Museum of Innovation, or The Tech, a museum in San Jose, California, U.S.\n",
            "Tech Tower, a building at the Georgia Institute of Technology, Atlanta, Georgia, U.S.\n",
            "\n",
            "Entity Mention: I\n",
            "Corresponding Wikipedia Entity: https://en.wikipedia.org/wiki/I\n",
            "Summary: I, or i, is the ninth letter and the third vowel letter of the Latin alphabet, used in the modern English alphabet, the alphabets of other western European languages and others worldwide. Its name in English is i (pronounced ), plural ies.\n",
            "\n",
            "Entity Mention: love\n",
            "Corresponding Wikipedia Entity: https://en.wikipedia.org/wiki/Love\n",
            "Summary: Love encompasses a range of strong and positive emotional and mental states, from the most sublime virtue or good habit, the deepest interpersonal affection, to the simplest pleasure. An example of this range of meanings is that the love of a mother differs from the love of a spouse, which differs from the love for food. Most commonly, love refers to a feeling of strong attraction and emotional attachment.Love is considered to be both positive and negative, with its virtue representing human kindness, compassion, and affection—\"the unselfish, loyal and benevolent concern for the good of another\"—and its vice representing a human moral flaw akin to vanity, selfishness, amour-propre, and egotism, potentially leading people into a type of mania, obsessiveness, or codependency. It may also describe compassionate and affectionate actions towards other humans, oneself, or animals. In its various forms, love acts as a major facilitator of interpersonal relationships and, owing to its central psychological importance, is one of the most common themes in the creative arts. Love has been postulated to be a function that keeps human beings together against menaces and to facilitate the continuation of the species.Ancient Greek philosophers identified six forms of love: familial love (storge), friendly love or platonic love (philia), romantic love (eros), self-love (philautia), guest love (xenia), and divine or unconditional love (agape). Modern authors have distinguished further varieties of love: unrequited love, empty love, companionate love, consummate love, infatuated love, amour de soi, and courtly love. Numerous cultures have also distinguished Ren, Yuanfen, Mamihlapinatapai, Cafuné, Kama, Bhakti, Mettā, Ishq, Chesed, Amore, Charity, Saudade (and other variants or symbioses of these states), as culturally unique words, definitions, or expressions of love in regard to specified \"moments\" currently lacking in the English language.The color wheel theory of love defines three primary, three secondary, and nine tertiary love styles, describing them in terms of the traditional color wheel. The triangular theory of love suggests intimacy, passion, and commitment are core components of love. Love has additional religious or spiritual meaning. This diversity of uses and meanings, combined with the complexity of the feelings involved, makes love unusually difficult to consistently define, compared to other emotional states.\n",
            "\n",
            "Entity Mention: apples\n",
            "Corresponding Wikipedia Entity: https://en.wikipedia.org/wiki/Apple\n",
            "Summary: An apple is a round, edible fruit produced by an apple tree (Malus spp., among them the domestic or orchard apple; Malus domestica). Apple trees are cultivated worldwide and are the most widely grown species in the genus Malus. The tree originated in Central Asia, where its wild ancestor, Malus sieversii, is still found. Apples have been grown for thousands of years in Asia and Europe and were introduced to North America by European colonists. Apples have religious and mythological significance in many cultures, including Norse, Greek, and European Christian tradition.\n",
            "Apples grown from seed tend to be very different from those of their parents, and the resultant fruit frequently lacks desired characteristics. For commercial purposes, including botanical evaluation, apple cultivars are propagated by clonal grafting onto rootstocks. Apple trees grown without rootstocks tend to be larger and much slower to fruit after planting. Rootstocks are used to control the speed of growth and the size of the resulting tree, allowing for easier harvesting.\n",
            "There are more than 7,500 cultivars of apples. Different cultivars are bred for various tastes and uses, including cooking, eating raw, and cider or apple juice production. Trees and fruit are prone to fungal, bacterial, and pest problems, which can be controlled by a number of organic and non-organic means. In 2010, the fruit's genome was sequenced as part of research on disease control and selective breeding in apple production.\n",
            "Worldwide production of apples in 2021 was 93 million tonnes, with China accounting for nearly half of the total.\n",
            "\n",
            "Entity Mention: as\n",
            "Corresponding Wikipedia Entity: https://en.wikipedia.org/wiki/As\n",
            "Summary: As, AS, A. S., A/S or similar may refer to:\n",
            "\n",
            "Entity Mention: a\n",
            "Corresponding Wikipedia Entity: https://en.wikipedia.org/wiki/A\n",
            "Summary: A, or a, is the first letter and the first vowel of the Latin alphabet, used in the modern English alphabet, the alphabets of other western European languages and others worldwide. Its name in English is a (pronounced ), plural aes. It is similar in shape to the Ancient Greek letter Alpha, from which it derives. The uppercase version consists of the two slanting sides of a triangle, crossed in the middle by a horizontal bar. The lowercase version can be written in two forms: the double-storey a and single-storey ɑ. The latter is commonly used in handwriting and fonts based on it, especially fonts intended to be read by children, and is also found in italic type.\n",
            "In English grammar, \"a\", and its variant \"an\", are indefinite articles.\n",
            "\n",
            "Entity Mention: Python\n",
            "Corresponding Wikipedia Entity: https://en.wikipedia.org/wiki/Python\n",
            "Summary: Python may refer to:\n",
            "\n",
            "Entity Mention: is\n",
            "Corresponding Wikipedia Entity: https://en.wikipedia.org/wiki/Copula_(linguistics)\n",
            "Summary: In linguistics, a copula (plural: copulas or copulae; abbreviated cop) is a word or phrase that links the subject of a sentence to a subject complement, such as the word is in the sentence \"The sky is blue\" or the phrase was not being in the sentence \"It was not being co-operative.\" The word copula derives from the Latin noun for a \"link\" or \"tie\" that connects two different things.A copula is often a verb or a verb-like word, though this is not universally the case. A verb that is a copula is sometimes called a copulative or copular verb. In English primary education grammar courses, a copula is often called a linking verb. In other languages, copulas show more resemblances to pronouns, as in Classical Chinese and Guarani, or may take the form of suffixes attached to a noun, as in Korean, Beja, and Inuit languages.\n",
            "Most languages have one main copula (in English, the verb \"to be\"), although some (like Spanish, Portuguese and Thai) have more than one, while others have none. While the term copula is generally used to refer to such principal verbs, it may also be used for a wider group of verbs with similar potential functions (like become, get, feel and seem in English); alternatively, these might be distinguished as \"semi-copulas\" or \"pseudo-copulas\".\n",
            "\n",
            "Entity Mention: a\n",
            "Corresponding Wikipedia Entity: https://en.wikipedia.org/wiki/A\n",
            "Summary: A, or a, is the first letter and the first vowel of the Latin alphabet, used in the modern English alphabet, the alphabets of other western European languages and others worldwide. Its name in English is a (pronounced ), plural aes. It is similar in shape to the Ancient Greek letter Alpha, from which it derives. The uppercase version consists of the two slanting sides of a triangle, crossed in the middle by a horizontal bar. The lowercase version can be written in two forms: the double-storey a and single-storey ɑ. The latter is commonly used in handwriting and fonts based on it, especially fonts intended to be read by children, and is also found in italic type.\n",
            "In English grammar, \"a\", and its variant \"an\", are indefinite articles.\n",
            "\n",
            "Entity Mention: popular\n",
            "Corresponding Wikipedia Entity: https://en.wikipedia.org/wiki/Popular\n",
            "Summary: Popularity or social status is the quality of being well liked, admired or well known to a particular group.\n",
            "Popular may also refer to:\n",
            "\n",
            "Entity Mention: programming\n",
            "Corresponding Wikipedia Entity: https://en.wikipedia.org/wiki/Program\n",
            "Summary: Program, programme, programmer, or programming may refer to:\n",
            "\n",
            "Entity Mention: The\n",
            "Corresponding Wikipedia Entity: https://en.wikipedia.org/wiki/The\n",
            "Summary: The ( ) is a grammatical article in English, denoting persons or things that are already or about to be mentioned, under discussion, implied or otherwise presumed familiar to listeners, readers, or speakers. It is the definite article in English. The is the most frequently used word in the English language; studies and analyses of texts have found it to account for seven percent of all printed English-language words. It is derived from gendered articles in Old English which combined in Middle English and now has a single form used with nouns of any gender. The word can be used with both singular and plural nouns, and with a noun that starts with any letter. This is different from many other languages, which have different forms of the definite article for different genders or numbers.\n",
            "\n",
            "Entity Mention: python\n",
            "Corresponding Wikipedia Entity: https://en.wikipedia.org/wiki/Python\n",
            "Summary: Python may refer to:\n",
            "\n",
            "Entity Mention: is\n",
            "Corresponding Wikipedia Entity: https://en.wikipedia.org/wiki/Copula_(linguistics)\n",
            "Summary: In linguistics, a copula (plural: copulas or copulae; abbreviated cop) is a word or phrase that links the subject of a sentence to a subject complement, such as the word is in the sentence \"The sky is blue\" or the phrase was not being in the sentence \"It was not being co-operative.\" The word copula derives from the Latin noun for a \"link\" or \"tie\" that connects two different things.A copula is often a verb or a verb-like word, though this is not universally the case. A verb that is a copula is sometimes called a copulative or copular verb. In English primary education grammar courses, a copula is often called a linking verb. In other languages, copulas show more resemblances to pronouns, as in Classical Chinese and Guarani, or may take the form of suffixes attached to a noun, as in Korean, Beja, and Inuit languages.\n",
            "Most languages have one main copula (in English, the verb \"to be\"), although some (like Spanish, Portuguese and Thai) have more than one, while others have none. While the term copula is generally used to refer to such principal verbs, it may also be used for a wider group of verbs with similar potential functions (like become, get, feel and seem in English); alternatively, these might be distinguished as \"semi-copulas\" or \"pseudo-copulas\".\n",
            "\n",
            "Entity Mention: a\n",
            "Corresponding Wikipedia Entity: https://en.wikipedia.org/wiki/A\n",
            "Summary: A, or a, is the first letter and the first vowel of the Latin alphabet, used in the modern English alphabet, the alphabets of other western European languages and others worldwide. Its name in English is a (pronounced ), plural aes. It is similar in shape to the Ancient Greek letter Alpha, from which it derives. The uppercase version consists of the two slanting sides of a triangle, crossed in the middle by a horizontal bar. The lowercase version can be written in two forms: the double-storey a and single-storey ɑ. The latter is commonly used in handwriting and fonts based on it, especially fonts intended to be read by children, and is also found in italic type.\n",
            "In English grammar, \"a\", and its variant \"an\", are indefinite articles.\n",
            "\n"
          ]
        }
      ]
    },
    {
      "cell_type": "markdown",
      "source": [
        "***23.Access_Wordnet***"
      ],
      "metadata": {
        "id": "H3TqhCcXK1Ff"
      }
    },
    {
      "cell_type": "code",
      "source": [
        "import nltk\n",
        "nltk.download('wordnet')"
      ],
      "metadata": {
        "colab": {
          "base_uri": "https://localhost:8080/"
        },
        "id": "-RtkhcGCHXZg",
        "outputId": "38ed6d93-fda0-4f5b-a6a6-b2d1a13e8e23"
      },
      "execution_count": 4,
      "outputs": [
        {
          "output_type": "stream",
          "name": "stderr",
          "text": [
            "[nltk_data] Downloading package wordnet to /root/nltk_data...\n"
          ]
        },
        {
          "output_type": "execute_result",
          "data": {
            "text/plain": [
              "True"
            ]
          },
          "metadata": {},
          "execution_count": 4
        }
      ]
    },
    {
      "cell_type": "code",
      "source": [
        "from nltk.corpus import wordnet\n",
        "\n",
        "def explore_word_meanings(sentence):\n",
        "    words = sentence.split()\n",
        "    for word in words:\n",
        "        synsets = wordnet.synsets(word)\n",
        "        if synsets:\n",
        "            print(f\"\\nWord: {word}\")\n",
        "            print(\"Definitions:\")\n",
        "            for synset in synsets:\n",
        "                print(f\"- {synset.definition()}\")\n",
        "            print(\"Synonyms:\")\n",
        "            synonyms = set()\n",
        "            for synset in synsets:\n",
        "                synonyms.update(synset.lemma_names())\n",
        "            print(f\"- {', '.join(synonyms)}\")\n",
        "\n",
        "sentences = [\n",
        "    \"The cat sat on the mat.\",\n",
        "    \"The dog barked loudly.\",\n",
        "    \"She played the piano beautifully.\",\n",
        "]\n",
        "\n",
        "for i, sentence in enumerate(sentences):\n",
        "    print(f\"\\nSentence {i + 1}: {sentence}\")\n",
        "    explore_word_meanings(sentence)"
      ],
      "metadata": {
        "colab": {
          "base_uri": "https://localhost:8080/"
        },
        "id": "t3bIcLNJHnhg",
        "outputId": "ba986bb3-5108-4341-8688-2ec0f42b0f52"
      },
      "execution_count": 5,
      "outputs": [
        {
          "output_type": "stream",
          "name": "stdout",
          "text": [
            "\n",
            "Sentence 1: The cat sat on the mat.\n",
            "\n",
            "Word: cat\n",
            "Definitions:\n",
            "- feline mammal usually having thick soft fur and no ability to roar: domestic cats; wildcats\n",
            "- an informal term for a youth or man\n",
            "- a spiteful woman gossip\n",
            "- the leaves of the shrub Catha edulis which are chewed like tobacco or used to make tea; has the effect of a euphoric stimulant\n",
            "- a whip with nine knotted cords\n",
            "- a large tracked vehicle that is propelled by two endless metal belts; frequently used for moving earth in construction and farm work\n",
            "- any of several large cats typically able to roar and living in the wild\n",
            "- a method of examining body organs by scanning them with X rays and using a computer to construct a series of cross-sectional scans along a single axis\n",
            "- beat with a cat-o'-nine-tails\n",
            "- eject the contents of the stomach through the mouth\n",
            "Synonyms:\n",
            "- cast, Arabian_tea, computed_axial_tomography, spue, spew, quat, regurgitate, African_tea, barf, CAT, hombre, guy, bozo, CT, Caterpillar, vomit, vomit_up, chuck, computerized_tomography, sick, big_cat, upchuck, purge, throw_up, honk, cat, retch, disgorge, be_sick, cat-o'-nine-tails, puke, regorge, computed_tomography, kat, true_cat, computerized_axial_tomography, khat, qat\n",
            "\n",
            "Word: sat\n",
            "Definitions:\n",
            "- the seventh and last day of the week; observed as the Sabbath by Jews and some Christians\n",
            "- be seated\n",
            "- be around, often idly or without specific purpose\n",
            "- take a seat\n",
            "- be in session\n",
            "- assume a posture as for artistic purposes\n",
            "- sit and travel on the back of animal, usually while controlling its motions\n",
            "- be located or situated somewhere\n",
            "- work or act as a baby-sitter\n",
            "- show to a seat; assign a seat for\n",
            "- serve in a specific professional capacity\n",
            "Synonyms:\n",
            "- Saturday, ride, Sat, sit, model, Sabbatum, pose, sit_down, seat, sit_around, posture, baby-sit\n",
            "\n",
            "Word: on\n",
            "Definitions:\n",
            "- in operation or operational\n",
            "- (of events) planned or scheduled\n",
            "- with a forward motion\n",
            "- indicates continuity or persistence or concentration\n",
            "- in a state required for something to function or be effective\n",
            "Synonyms:\n",
            "- on, along\n",
            "\n",
            "Sentence 2: The dog barked loudly.\n",
            "\n",
            "Word: dog\n",
            "Definitions:\n",
            "- a member of the genus Canis (probably descended from the common wolf) that has been domesticated by man since prehistoric times; occurs in many breeds\n",
            "- a dull unattractive unpleasant girl or woman\n",
            "- informal term for a man\n",
            "- someone who is morally reprehensible\n",
            "- a smooth-textured sausage of minced beef or pork usually smoked; often served on a bread roll\n",
            "- a hinged catch that fits into a notch of a ratchet to move a wheel forward or prevent it from moving backward\n",
            "- metal supports for logs in a fireplace\n",
            "- go after with the intent to catch\n",
            "Synonyms:\n",
            "- chase, pawl, Canis_familiaris, tail, bounder, wienerwurst, detent, dog-iron, hound, trail, hot_dog, weenie, chase_after, andiron, dog, domestic_dog, click, tag, frank, frankfurter, cad, hotdog, blackguard, give_chase, firedog, track, wiener, frump, go_after, heel\n",
            "\n",
            "Word: barked\n",
            "Definitions:\n",
            "- speak in an unfriendly tone\n",
            "- cover with bark\n",
            "- remove the bark of a tree\n",
            "- make barking sounds\n",
            "- tan (a skin) with bark tannins\n",
            "Synonyms:\n",
            "- skin, bark\n",
            "\n",
            "Sentence 3: She played the piano beautifully.\n",
            "\n",
            "Word: played\n",
            "Definitions:\n",
            "- participate in games or sport\n",
            "- act or have an effect in a specified way or with a specific effect or outcome\n",
            "- play on an instrument\n",
            "- play a role or part\n",
            "- be at play; be engaged in playful activity; amuse oneself in a way characteristic of children\n",
            "- replay (as a melody)\n",
            "- perform music on (a musical instrument)\n",
            "- pretend to have certain qualities or state of mind\n",
            "- move or seem to move quickly, lightly, or irregularly\n",
            "- bet or wager (money)\n",
            "- engage in recreational activities rather than work; occupy oneself in a diversion\n",
            "- pretend to be somebody in the framework of a game or playful activity\n",
            "- emit recorded sound\n",
            "- perform on a certain location\n",
            "- put (a card or piece) into play during a game, or act strategically as if in a card game\n",
            "- engage in an activity as if it were a game rather than take it seriously\n",
            "- behave in a certain way\n",
            "- cause to emit recorded audio or video\n",
            "- manipulate manually or in one's mind or imagination\n",
            "- use to one's advantage\n",
            "- consider not very seriously\n",
            "- be received or accepted or interpreted in a specific way\n",
            "- behave carelessly or indifferently\n",
            "- cause to move or operate freely within a bounded space\n",
            "- perform on a stage or theater\n",
            "- be performed or presented for public viewing\n",
            "- cause to happen or to occur as a consequence\n",
            "- discharge or direct or be discharged or directed as if in a continuous stream\n",
            "- make bets\n",
            "- stake on the outcome of an issue\n",
            "- shoot or hit in a particular manner\n",
            "- use or move\n",
            "- employ in a game or in a specific position\n",
            "- contend against an opponent in a sport, game, or battle\n",
            "- exhaust by allowing to pull on the line\n",
            "- (of games) engaged in\n",
            "Synonyms:\n",
            "- play, bet, trifle, make_for, fiddle, meet, roleplay, bring, playact, work, played, encounter, spiel, represent, act, recreate, wager, take_on, run, toy, dally, act_as, wreak, diddle, flirt\n",
            "\n",
            "Word: piano\n",
            "Definitions:\n",
            "- a keyboard instrument that is played by depressing keys that cause hammers to strike tuned strings and produce sounds\n",
            "- (music) low loudness\n",
            "- used chiefly as a direction or description in music\n",
            "- used as a direction in music; to be played relatively softly\n",
            "Synonyms:\n",
            "- pianoforte, piano, soft, forte-piano, softly, pianissimo\n"
          ]
        }
      ]
    },
    {
      "cell_type": "markdown",
      "source": [
        "***24.First-Order-Predicate_calculus***"
      ],
      "metadata": {
        "id": "rOpkReUgK3fI"
      }
    },
    {
      "cell_type": "code",
      "source": [
        "from pyparsing import Word, Literal, Keyword, infixNotation, opAssoc\n",
        "\n",
        "\n",
        "and_ = Keyword(\"and\")\n",
        "or_ = Keyword(\"or\")\n",
        "not_ = Keyword(\"not\")\n",
        "\n",
        "variable = Word(\"xy\", exact=1)\n",
        "\n",
        "expr = infixNotation(variable, [\n",
        "    (not_, 1, opAssoc.RIGHT),\n",
        "    (and_, 2, opAssoc.LEFT),\n",
        "    (or_, 2, opAssoc.LEFT),\n",
        "])\n",
        "\n",
        "expressions = [\n",
        "    \"x and y\",\n",
        "    \"x or (not y)\",\n",
        "    \"x and (y or (not x))\",\n",
        "]\n",
        "\n",
        "for i, expression in enumerate(expressions):\n",
        "    print(f\"\\nExpression {i + 1}: {expression}\")\n",
        "    try:\n",
        "        result = expr.parseString(expression)[0]\n",
        "        print(f\"Result: {result}\")\n",
        "    except Exception as e:\n",
        "        print(f\"Error: {e}\")"
      ],
      "metadata": {
        "colab": {
          "base_uri": "https://localhost:8080/"
        },
        "id": "LUVIWUA1HrhC",
        "outputId": "9cc7d481-999d-4432-e4bf-e5d992cec29e"
      },
      "execution_count": 15,
      "outputs": [
        {
          "output_type": "stream",
          "name": "stdout",
          "text": [
            "\n",
            "Expression 1: x and y\n",
            "Result: ['x', 'and', 'y']\n",
            "\n",
            "Expression 2: x or (not y)\n",
            "Result: ['x', 'or', ['not', 'y']]\n",
            "\n",
            "Expression 3: x and (y or (not x))\n",
            "Result: ['x', 'and', ['y', 'or', ['not', 'x']]]\n"
          ]
        }
      ]
    },
    {
      "cell_type": "markdown",
      "source": [
        "***25.Regex***"
      ],
      "metadata": {
        "id": "FytcfA1JK5Io"
      }
    },
    {
      "cell_type": "code",
      "source": [
        "import re\n",
        "\n",
        "def perform_regex_operations(text, patterns):\n",
        "    print(\"Original Text:\")\n",
        "    print(text)\n",
        "\n",
        "    for pattern in patterns:\n",
        "        print(\"\\nRegex Pattern:\", pattern)\n",
        "        matches = re.findall(pattern, text)\n",
        "        if matches:\n",
        "            print(\"Matches:\", matches)\n",
        "        else:\n",
        "            print(\"No matches found.\")\n",
        "\n",
        "\n",
        "text = \"Regular expressions are a powerful tool for pattern matching in text. They provide a flexible way to search and manipulate strings.\"\n",
        "\n",
        "\n",
        "regex_patterns = [\n",
        "    r\"regex\",\n",
        "    r\"4G\\*\",\n",
        "    r\"powerful|flexible|manipulate\",\n",
        "]\n",
        "\n",
        "perform_regex_operations(text, regex_patterns)"
      ],
      "metadata": {
        "colab": {
          "base_uri": "https://localhost:8080/"
        },
        "id": "Ytjpc2wbIEr7",
        "outputId": "0cfcd1a0-3396-47a9-96dc-efba22e8e831"
      },
      "execution_count": 7,
      "outputs": [
        {
          "output_type": "stream",
          "name": "stdout",
          "text": [
            "Original Text:\n",
            "Regular expressions are a powerful tool for pattern matching in text. They provide a flexible way to search and manipulate strings.\n",
            "\n",
            "Regex Pattern: regex\n",
            "No matches found.\n",
            "\n",
            "Regex Pattern: 4G\\*\n",
            "No matches found.\n",
            "\n",
            "Regex Pattern: powerful|flexible|manipulate\n",
            "Matches: ['powerful', 'flexible', 'manipulate']\n"
          ]
        }
      ]
    },
    {
      "cell_type": "markdown",
      "source": [
        "***26.Basic information retrival using TF-IDF***"
      ],
      "metadata": {
        "id": "tLEou-_YK6t3"
      }
    },
    {
      "cell_type": "code",
      "source": [
        "from sklearn.feature_extraction.text import TfidfVectorizer\n",
        "\n",
        "sentences = [\n",
        "    \"Climate change is a pressing global issue that requires immediate action.\",\n",
        "    \"Renewable energy sources, such as solar and wind power, are essential for reducing carbon emissions.\",\n",
        "    \"Greenhouse gases, like carbon dioxide and methane, contribute to global warming.\",\n",
        "    \"The Paris Agreement is an international treaty aimed at addressing climate change.\",\n",
        "    \"Sustainability and environmental conservation are crucial for the future of our planet.\"\n",
        "]\n",
        "\n",
        "query = \"Climate change action\"\n",
        "\n",
        "sentences.append(query)\n",
        "\n",
        "vectorizer = TfidfVectorizer()\n",
        "\n",
        "tfidf_matrix = vectorizer.fit_transform(sentences)\n",
        "\n",
        "query_tfidf = tfidf_matrix[-1]\n",
        "\n",
        "similarity_scores = (tfidf_matrix[:-1] @ query_tfidf.T).toarray().flatten()\n",
        "\n",
        "sorted_indices = similarity_scores.argsort()[::-1]\n",
        "\n",
        "print(\"Retrieved documents (in order of relevance):\")\n",
        "for idx in sorted_indices:\n",
        "    print(f\"Document {idx + 1}: {sentences[idx]}\")"
      ],
      "metadata": {
        "colab": {
          "base_uri": "https://localhost:8080/"
        },
        "id": "30_SiOGDIJQD",
        "outputId": "4198a592-e926-4cc6-875d-31555859548f"
      },
      "execution_count": 8,
      "outputs": [
        {
          "output_type": "stream",
          "name": "stdout",
          "text": [
            "Retrieved documents (in order of relevance):\n",
            "Document 1: Climate change is a pressing global issue that requires immediate action.\n",
            "Document 4: The Paris Agreement is an international treaty aimed at addressing climate change.\n",
            "Document 5: Sustainability and environmental conservation are crucial for the future of our planet.\n",
            "Document 3: Greenhouse gases, like carbon dioxide and methane, contribute to global warming.\n",
            "Document 2: Renewable energy sources, such as solar and wind power, are essential for reducing carbon emissions.\n"
          ]
        }
      ]
    },
    {
      "cell_type": "markdown",
      "source": [
        "***27.syntax_driven_semantic_analysis_using_nounphrases***"
      ],
      "metadata": {
        "id": "rog94pBeK7_o"
      }
    },
    {
      "cell_type": "code",
      "source": [
        "import nltk\n",
        "from nltk.tokenize import word_tokenize, sent_tokenize\n",
        "from nltk.tag import pos_tag\n",
        "from nltk.chunk import ne_chunk\n",
        "\n",
        "nltk.download('punkt')\n",
        "nltk.download('averaged_perceptron_tagger')\n",
        "nltk.download('maxent_ne_chunker')\n",
        "nltk.download('words')\n",
        "\n",
        "sentences = [\n",
        "    \"The quick brown fox jumps over the lazy dog.\",\n",
        "    \"She is an excellent chef and loves to cook delicious meals.\",\n",
        "    \"The Eiffel Tower in Paris is a famous landmark.\"\n",
        "]\n",
        "\n",
        "def extract_noun_phrases_meanings(sentences):\n",
        "    for sentence in sentences:\n",
        "        words = word_tokenize(sentence)\n",
        "\n",
        "        pos_tags = pos_tag(words)\n",
        "\n",
        "        chunks = ne_chunk(pos_tags)\n",
        "        noun_phrases = []\n",
        "        meanings = []\n",
        "        for chunk in chunks:\n",
        "            if hasattr(chunk, 'label') and chunk.label() == 'NP':\n",
        "                noun_phrase = ' '.join([token for token, pos in chunk.leaves()])\n",
        "                noun_phrases.append(noun_phrase)\n",
        "\n",
        "                if 'Eiffel Tower' in noun_phrase:\n",
        "                    meanings.append(\"A famous landmark in Paris, France.\")\n",
        "                elif 'chef' in noun_phrase:\n",
        "                    meanings.append(\"Someone skilled in cooking.\")\n",
        "                else:\n",
        "                    meanings.append(\"Meaning not defined.\")\n",
        "\n",
        "        print(f\"Sentence: {sentence}\")\n",
        "        print(\"Extracted Noun Phrases:\")\n",
        "        for i, noun_phrase in enumerate(noun_phrases):\n",
        "            print(f\"{i + 1}. {noun_phrase}\")\n",
        "            print(f\"   Meaning: {meanings[i]}\")\n",
        "        print(\"\")"
      ],
      "metadata": {
        "colab": {
          "base_uri": "https://localhost:8080/"
        },
        "id": "hEb7ErG1INzj",
        "outputId": "1784843c-9829-4ef2-8b2d-2268edbc5d67"
      },
      "execution_count": 38,
      "outputs": [
        {
          "output_type": "stream",
          "name": "stderr",
          "text": [
            "[nltk_data] Downloading package punkt to /root/nltk_data...\n",
            "[nltk_data]   Package punkt is already up-to-date!\n",
            "[nltk_data] Downloading package averaged_perceptron_tagger to\n",
            "[nltk_data]     /root/nltk_data...\n",
            "[nltk_data]   Package averaged_perceptron_tagger is already up-to-\n",
            "[nltk_data]       date!\n",
            "[nltk_data] Downloading package maxent_ne_chunker to\n",
            "[nltk_data]     /root/nltk_data...\n",
            "[nltk_data]   Package maxent_ne_chunker is already up-to-date!\n",
            "[nltk_data] Downloading package words to /root/nltk_data...\n",
            "[nltk_data]   Package words is already up-to-date!\n"
          ]
        }
      ]
    },
    {
      "cell_type": "markdown",
      "source": [
        "***28.PCFG_using_PCNF_grammar***"
      ],
      "metadata": {
        "id": "UzYym-uaK-Bj"
      }
    },
    {
      "cell_type": "code",
      "source": [
        "import random\n",
        "\n",
        "grammar = {\n",
        "    \"S\": [\"NP VP\", 1.0],\n",
        "    \"NP\": [\"Det N\", 0.5, \"NP PP\", 0.4, \"'the'\", 0.1],\n",
        "    \"VP\": [\"V NP\", 0.7, \"VP PP\", 0.3],\n",
        "    \"PP\": [\"P NP\", 1.0],\n",
        "    \"Det\": [\"'the'\", 0.7, \"'a'\", 0.3],\n",
        "    \"N\": [\"'fox'\", 0.4, \"'dog'\", 0.3, \"'cat'\", 0.2, \"'bird'\", 0.1],\n",
        "    \"V\": [\"'jumps'\", 0.5, \"'runs'\", 0.3, \"'sits'\", 0.2],\n",
        "    \"P\": [\"'over'\", 0.6, \"'on'\", 0.4]\n",
        "}\n",
        "\n",
        "def parse_sentence(sentence):\n",
        "    parse_tree = []\n",
        "    tokens = sentence.split()\n",
        "\n",
        "    def expand_symbol(symbol):\n",
        "        if symbol in grammar:\n",
        "            options = grammar[symbol]\n",
        "            choice = random.choices(options)[0]\n",
        "\n",
        "            if type(choice) is list:\n",
        "                prob = choice[1]\n",
        "                if random.random() < prob:\n",
        "                    parse_tree.append((symbol, choice[0]))\n",
        "                    for sub_symbol in choice[0]:\n",
        "                        expand_symbol(sub_symbol)\n",
        "                else:\n",
        "                    expand_symbol(symbol)\n",
        "            else:\n",
        "                parse_tree.append((symbol, choice))\n",
        "        else:\n",
        "            parse_tree.append((symbol, tokens.pop(0)))\n",
        "\n",
        "    expand_symbol(\"S\")\n",
        "\n",
        "    return parse_tree\n",
        "\n",
        "sentence = \"The quick brown fox jumps over the lazy dog.\"\n",
        "parsed_tree = parse_sentence(sentence)\n",
        "print(\"Parse tree:\", parsed_tree)"
      ],
      "metadata": {
        "colab": {
          "base_uri": "https://localhost:8080/"
        },
        "id": "Csc8RZjgITlu",
        "outputId": "13d59dd9-b071-4fe9-e6f0-4d4d175af7a2"
      },
      "execution_count": 10,
      "outputs": [
        {
          "output_type": "stream",
          "name": "stdout",
          "text": [
            "Parse tree: [('S', 1.0)]\n"
          ]
        }
      ]
    },
    {
      "cell_type": "markdown",
      "source": [
        "***29.Recognize_dialogacts***"
      ],
      "metadata": {
        "id": "upPkHlrxK_qr"
      }
    },
    {
      "cell_type": "code",
      "source": [
        "import spacy\n",
        "\n",
        "def recognize_dialog_acts(dialog):\n",
        "    nlp = spacy.load(\"en_core_web_sm\")\n",
        "    dialog_acts = []\n",
        "\n",
        "    for utterance in dialog:\n",
        "        doc = nlp(utterance)\n",
        "        if any(token.text.lower() in [\"hello\", \"hi\", \"hey\"] for token in doc):\n",
        "            dialog_acts.append((\"Greeting\", utterance))\n",
        "        elif any(token.text.lower() in [\"how\", \"doing\"] for token in doc) and \"you\" in [token.text.lower() for token in doc]:\n",
        "            dialog_acts.append((\"Inquiry - Well-being\", utterance))\n",
        "        elif any(token.text.lower() in [\"thank\", \"thanks\", \"thank you\"] for token in doc):\n",
        "            dialog_acts.append((\"Expression of Thanks\", utterance))\n",
        "        elif any(token.text.lower() in [\"please\", \"could\", \"can\"] for token in doc) and \"you\" in [token.text.lower() for token in doc]:\n",
        "            dialog_acts.append((\"Request\", utterance))\n",
        "        elif any(token.text.lower() in [\"sure\", \"here\", \"go\"] for token in doc):\n",
        "            dialog_acts.append((\"Acknowledgment/Confirmation\", utterance))\n",
        "        elif any(token.text.lower() in [\"time\", \"meeting\", \"tomorrow\"] for token in doc):\n",
        "            dialog_acts.append((\"Inquiry - Meeting Time\", utterance))\n",
        "        else:\n",
        "            dialog_acts.append((\"Other\", utterance))\n",
        "\n",
        "    return dialog_acts\n",
        "\n",
        "dialog = [\n",
        "    \"Hello! How are you today?\",\n",
        "    \"I'm doing well, thank you. How about you?\",\n",
        "    \"Can you please pass the salt?\",\n",
        "    \"Sure, here you go.\",\n",
        "    \"What time is the meeting tomorrow?\",\n",
        "    \"The meeting is at 2:00 PM.\",\n",
        "]\n",
        "\n",
        "recognized_acts = recognize_dialog_acts(dialog)\n",
        "\n",
        "for act, utterance in recognized_acts:\n",
        "    print(f\"{act}: {utterance}\")\n"
      ],
      "metadata": {
        "colab": {
          "base_uri": "https://localhost:8080/"
        },
        "id": "XeqWv-o-Jyuk",
        "outputId": "7b445b4b-9149-47b9-e9e5-2d4f7ddcdc31"
      },
      "execution_count": 11,
      "outputs": [
        {
          "output_type": "stream",
          "name": "stdout",
          "text": [
            "Greeting: Hello! How are you today?\n",
            "Inquiry - Well-being: I'm doing well, thank you. How about you?\n",
            "Request: Can you please pass the salt?\n",
            "Acknowledgment/Confirmation: Sure, here you go.\n",
            "Inquiry - Meeting Time: What time is the meeting tomorrow?\n",
            "Inquiry - Meeting Time: The meeting is at 2:00 PM.\n"
          ]
        }
      ]
    },
    {
      "cell_type": "markdown",
      "source": [
        "***30.Hugging_face_transformers***"
      ],
      "metadata": {
        "id": "ZcncfRZALDJm"
      }
    },
    {
      "cell_type": "code",
      "source": [
        "!pip install transformers==4.2.1\n",
        "!pip install sentencepiece==0.1.95"
      ],
      "metadata": {
        "colab": {
          "base_uri": "https://localhost:8080/"
        },
        "id": "yHj8JbmsJ6D6",
        "outputId": "643c4ef9-36af-4296-ccc3-2c1eed72e74f"
      },
      "execution_count": 26,
      "outputs": [
        {
          "output_type": "stream",
          "name": "stdout",
          "text": [
            "Collecting transformers==4.2.1\n",
            "  Downloading transformers-4.2.1-py3-none-any.whl (1.8 MB)\n",
            "\u001b[2K     \u001b[90m━━━━━━━━━━━━━━━━━━━━━━━━━━━━━━━━━━━━━━━━\u001b[0m \u001b[32m1.8/1.8 MB\u001b[0m \u001b[31m6.8 MB/s\u001b[0m eta \u001b[36m0:00:00\u001b[0m\n",
            "\u001b[?25hRequirement already satisfied: filelock in /usr/local/lib/python3.10/dist-packages (from transformers==4.2.1) (3.13.1)\n",
            "Requirement already satisfied: numpy in /usr/local/lib/python3.10/dist-packages (from transformers==4.2.1) (1.23.5)\n",
            "Requirement already satisfied: packaging in /usr/local/lib/python3.10/dist-packages (from transformers==4.2.1) (23.2)\n",
            "Requirement already satisfied: regex!=2019.12.17 in /usr/local/lib/python3.10/dist-packages (from transformers==4.2.1) (2023.6.3)\n",
            "Requirement already satisfied: requests in /usr/local/lib/python3.10/dist-packages (from transformers==4.2.1) (2.31.0)\n",
            "Collecting sacremoses (from transformers==4.2.1)\n",
            "  Downloading sacremoses-0.1.1-py3-none-any.whl (897 kB)\n",
            "\u001b[2K     \u001b[90m━━━━━━━━━━━━━━━━━━━━━━━━━━━━━━━━━━━━━━━━\u001b[0m \u001b[32m897.5/897.5 kB\u001b[0m \u001b[31m11.0 MB/s\u001b[0m eta \u001b[36m0:00:00\u001b[0m\n",
            "\u001b[?25hCollecting tokenizers==0.9.4 (from transformers==4.2.1)\n",
            "  Downloading tokenizers-0.9.4.tar.gz (184 kB)\n",
            "\u001b[2K     \u001b[90m━━━━━━━━━━━━━━━━━━━━━━━━━━━━━━━━━━━━━━━━\u001b[0m \u001b[32m184.2/184.2 kB\u001b[0m \u001b[31m6.2 MB/s\u001b[0m eta \u001b[36m0:00:00\u001b[0m\n",
            "\u001b[?25h  Installing build dependencies ... \u001b[?25l\u001b[?25hdone\n",
            "  Getting requirements to build wheel ... \u001b[?25l\u001b[?25hdone\n",
            "  Preparing metadata (pyproject.toml) ... \u001b[?25l\u001b[?25hdone\n",
            "Requirement already satisfied: tqdm>=4.27 in /usr/local/lib/python3.10/dist-packages (from transformers==4.2.1) (4.66.1)\n",
            "Requirement already satisfied: charset-normalizer<4,>=2 in /usr/local/lib/python3.10/dist-packages (from requests->transformers==4.2.1) (3.3.2)\n",
            "Requirement already satisfied: idna<4,>=2.5 in /usr/local/lib/python3.10/dist-packages (from requests->transformers==4.2.1) (3.4)\n",
            "Requirement already satisfied: urllib3<3,>=1.21.1 in /usr/local/lib/python3.10/dist-packages (from requests->transformers==4.2.1) (2.0.7)\n",
            "Requirement already satisfied: certifi>=2017.4.17 in /usr/local/lib/python3.10/dist-packages (from requests->transformers==4.2.1) (2023.7.22)\n",
            "Requirement already satisfied: click in /usr/local/lib/python3.10/dist-packages (from sacremoses->transformers==4.2.1) (8.1.7)\n",
            "Requirement already satisfied: joblib in /usr/local/lib/python3.10/dist-packages (from sacremoses->transformers==4.2.1) (1.3.2)\n",
            "Building wheels for collected packages: tokenizers\n",
            "  \u001b[1;31merror\u001b[0m: \u001b[1msubprocess-exited-with-error\u001b[0m\n",
            "  \n",
            "  \u001b[31m×\u001b[0m \u001b[32mBuilding wheel for tokenizers \u001b[0m\u001b[1;32m(\u001b[0m\u001b[32mpyproject.toml\u001b[0m\u001b[1;32m)\u001b[0m did not run successfully.\n",
            "  \u001b[31m│\u001b[0m exit code: \u001b[1;36m1\u001b[0m\n",
            "  \u001b[31m╰─>\u001b[0m See above for output.\n",
            "  \n",
            "  \u001b[1;35mnote\u001b[0m: This error originates from a subprocess, and is likely not a problem with pip.\n",
            "  Building wheel for tokenizers (pyproject.toml) ... \u001b[?25l\u001b[?25herror\n",
            "\u001b[31m  ERROR: Failed building wheel for tokenizers\u001b[0m\u001b[31m\n",
            "\u001b[0mFailed to build tokenizers\n",
            "\u001b[31mERROR: Could not build wheels for tokenizers, which is required to install pyproject.toml-based projects\u001b[0m\u001b[31m\n",
            "\u001b[0mCollecting sentencepiece==0.1.95\n",
            "  Downloading sentencepiece-0.1.95.tar.gz (508 kB)\n",
            "\u001b[2K     \u001b[90m━━━━━━━━━━━━━━━━━━━━━━━━━━━━━━━━━━━━━━━━\u001b[0m \u001b[32m508.7/508.7 kB\u001b[0m \u001b[31m7.8 MB/s\u001b[0m eta \u001b[36m0:00:00\u001b[0m\n",
            "\u001b[?25h  Preparing metadata (setup.py) ... \u001b[?25l\u001b[?25hdone\n",
            "Building wheels for collected packages: sentencepiece\n",
            "  Building wheel for sentencepiece (setup.py) ... \u001b[?25l\u001b[?25hdone\n",
            "  Created wheel for sentencepiece: filename=sentencepiece-0.1.95-cp310-cp310-linux_x86_64.whl size=1531298 sha256=199693703d907327b759964da440c7f9cf6befdb2a700ff1f581e535fa376542\n",
            "  Stored in directory: /root/.cache/pip/wheels/ef/a4/01/5a500fc0c5a38917ef408c245eb40b7ac96f4a30fc6a346a4c\n",
            "Successfully built sentencepiece\n",
            "Installing collected packages: sentencepiece\n",
            "  Attempting uninstall: sentencepiece\n",
            "    Found existing installation: sentencepiece 0.1.99\n",
            "    Uninstalling sentencepiece-0.1.99:\n",
            "      Successfully uninstalled sentencepiece-0.1.99\n",
            "Successfully installed sentencepiece-0.1.95\n"
          ]
        }
      ]
    },
    {
      "cell_type": "code",
      "source": [
        "from transformers import pipeline\n",
        "from transformers import AutoTokenizer, AutoModelForSeq2SeqLM\n",
        "translator = pipeline(\"translation_en_to_de\")\n",
        "text = \"Hello world! Hugging Face is the best NLP tool.\"\n",
        "translation = translator(text)\n",
        "\n",
        "print(translation)\n",
        "tokenizer = AutoTokenizer.from_pretrained(\"Helsinki-NLP/opus-mt-en-nl\")\n",
        "model = AutoModelForSeq2SeqLM.from_pretrained(\"Helsinki-NLP/opus-mt-en-nl\")\n",
        "text = \"Hello my friends! How are you doing today?\"\n",
        "tokenized_text = tokenizer(text, return_tensors=\"pt\")\n",
        "print(tokenized_text)\n",
        "\n",
        "{'input_ids': tensor([[ 147, 2105,  121, 2108,   54,  457,   56,   23,  728, 1042,   17,    0]]), 'attention_mask': tensor([[1, 1, 1, 1, 1, 1, 1, 1, 1, 1, 1, 1]])}\n",
        "translation = model.generate(**tokenized_text)\n",
        "translated_text = tokenizer.batch_decode(translation, skip_special_tokens=True)[0]\n",
        "print(translated_text)\n"
      ],
      "metadata": {
        "colab": {
          "base_uri": "https://localhost:8080/",
          "height": 436
        },
        "id": "xYSlHTRZKANT",
        "outputId": "9c447277-e840-4e78-ad08-fd4ffcfd9759"
      },
      "execution_count": 25,
      "outputs": [
        {
          "output_type": "stream",
          "name": "stderr",
          "text": [
            "No model was supplied, defaulted to t5-base and revision 686f1db (https://huggingface.co/t5-base).\n",
            "Using a pipeline without specifying a model name and revision in production is not recommended.\n"
          ]
        },
        {
          "output_type": "stream",
          "name": "stdout",
          "text": [
            "[{'translation_text': 'Hello world, Hugging Face ist das beste NLP-Tool.'}]\n"
          ]
        },
        {
          "output_type": "error",
          "ename": "ValueError",
          "evalue": "ignored",
          "traceback": [
            "\u001b[0;31m---------------------------------------------------------------------------\u001b[0m",
            "\u001b[0;31mValueError\u001b[0m                                Traceback (most recent call last)",
            "\u001b[0;32m<ipython-input-25-24cc3e6e15af>\u001b[0m in \u001b[0;36m<cell line: 8>\u001b[0;34m()\u001b[0m\n\u001b[1;32m      6\u001b[0m \u001b[0;34m\u001b[0m\u001b[0m\n\u001b[1;32m      7\u001b[0m \u001b[0mprint\u001b[0m\u001b[0;34m(\u001b[0m\u001b[0mtranslation\u001b[0m\u001b[0;34m)\u001b[0m\u001b[0;34m\u001b[0m\u001b[0;34m\u001b[0m\u001b[0m\n\u001b[0;32m----> 8\u001b[0;31m \u001b[0mtokenizer\u001b[0m \u001b[0;34m=\u001b[0m \u001b[0mAutoTokenizer\u001b[0m\u001b[0;34m.\u001b[0m\u001b[0mfrom_pretrained\u001b[0m\u001b[0;34m(\u001b[0m\u001b[0;34m\"Helsinki-NLP/opus-mt-en-nl\"\u001b[0m\u001b[0;34m)\u001b[0m\u001b[0;34m\u001b[0m\u001b[0;34m\u001b[0m\u001b[0m\n\u001b[0m\u001b[1;32m      9\u001b[0m \u001b[0mmodel\u001b[0m \u001b[0;34m=\u001b[0m \u001b[0mAutoModelForSeq2SeqLM\u001b[0m\u001b[0;34m.\u001b[0m\u001b[0mfrom_pretrained\u001b[0m\u001b[0;34m(\u001b[0m\u001b[0;34m\"Helsinki-NLP/opus-mt-en-nl\"\u001b[0m\u001b[0;34m)\u001b[0m\u001b[0;34m\u001b[0m\u001b[0;34m\u001b[0m\u001b[0m\n\u001b[1;32m     10\u001b[0m \u001b[0mtext\u001b[0m \u001b[0;34m=\u001b[0m \u001b[0;34m\"Hello my friends! How are you doing today?\"\u001b[0m\u001b[0;34m\u001b[0m\u001b[0;34m\u001b[0m\u001b[0m\n",
            "\u001b[0;32m/usr/local/lib/python3.10/dist-packages/transformers/models/auto/tokenization_auto.py\u001b[0m in \u001b[0;36mfrom_pretrained\u001b[0;34m(cls, pretrained_model_name_or_path, *inputs, **kwargs)\u001b[0m\n\u001b[1;32m    789\u001b[0m                     \u001b[0;32mreturn\u001b[0m \u001b[0mtokenizer_class_py\u001b[0m\u001b[0;34m.\u001b[0m\u001b[0mfrom_pretrained\u001b[0m\u001b[0;34m(\u001b[0m\u001b[0mpretrained_model_name_or_path\u001b[0m\u001b[0;34m,\u001b[0m \u001b[0;34m*\u001b[0m\u001b[0minputs\u001b[0m\u001b[0;34m,\u001b[0m \u001b[0;34m**\u001b[0m\u001b[0mkwargs\u001b[0m\u001b[0;34m)\u001b[0m\u001b[0;34m\u001b[0m\u001b[0;34m\u001b[0m\u001b[0m\n\u001b[1;32m    790\u001b[0m                 \u001b[0;32melse\u001b[0m\u001b[0;34m:\u001b[0m\u001b[0;34m\u001b[0m\u001b[0;34m\u001b[0m\u001b[0m\n\u001b[0;32m--> 791\u001b[0;31m                     raise ValueError(\n\u001b[0m\u001b[1;32m    792\u001b[0m                         \u001b[0;34m\"This tokenizer cannot be instantiated. Please make sure you have `sentencepiece` installed \"\u001b[0m\u001b[0;34m\u001b[0m\u001b[0;34m\u001b[0m\u001b[0m\n\u001b[1;32m    793\u001b[0m                         \u001b[0;34m\"in order to use this tokenizer.\"\u001b[0m\u001b[0;34m\u001b[0m\u001b[0;34m\u001b[0m\u001b[0m\n",
            "\u001b[0;31mValueError\u001b[0m: This tokenizer cannot be instantiated. Please make sure you have `sentencepiece` installed in order to use this tokenizer."
          ]
        }
      ]
    },
    {
      "cell_type": "markdown",
      "source": [
        "***31.Extract_Entities***"
      ],
      "metadata": {
        "id": "flw517Q9W046"
      }
    },
    {
      "cell_type": "code",
      "source": [
        "import nltk\n",
        "from nltk import word_tokenize, pos_tag, ne_chunk\n",
        "\n",
        "nltk.download('punkt')\n",
        "nltk.download('averaged_perceptron_tagger')\n",
        "nltk.download('maxent_ne_chunker')\n",
        "nltk.download('words')\n",
        "\n",
        "def extract_named_entities(text):\n",
        "    words = word_tokenize(text)\n",
        "    pos_tags = pos_tag(words)\n",
        "    named_entities = ne_chunk(pos_tags)\n",
        "    return named_entities\n",
        "\n",
        "def resolve_references(named_entities):\n",
        "    resolved_text = \"\"\n",
        "    for chunk in named_entities:\n",
        "        if isinstance(chunk, nltk.Tree):\n",
        "            entity_type = chunk.label()\n",
        "            entity_text = ' '.join(c[0] for c in chunk.leaves())\n",
        "\n",
        "            if entity_type == 'GPE':\n",
        "                resolved_text += f\"[Location: {entity_text}] \"\n",
        "            elif entity_type == 'PERSON':\n",
        "                resolved_text += f\"[Person: {entity_text}] \"\n",
        "            else:\n",
        "                resolved_text += f\"[{entity_type}: {entity_text}] \"\n",
        "        else:\n",
        "            resolved_text += chunk[0] + ' '\n",
        "\n",
        "    return resolved_text.strip()\n",
        "\n",
        "\n",
        "input_text = \"Harvard University, located in Cambridge, Massachusetts, is a prestigious institution.\"\n",
        "\n",
        "named_entities_result = extract_named_entities(input_text)\n",
        "\n",
        "resolved_text = resolve_references(named_entities_result)\n",
        "\n",
        "print(\"Original Text:\")\n",
        "print(input_text)\n",
        "print(\"\\nResolved Text:\")\n",
        "print(resolved_text)\n"
      ],
      "metadata": {
        "colab": {
          "base_uri": "https://localhost:8080/"
        },
        "id": "e1ABv8jFKFbM",
        "outputId": "7680e63f-d6d4-4593-d588-8256501127fc"
      },
      "execution_count": 27,
      "outputs": [
        {
          "output_type": "stream",
          "name": "stderr",
          "text": [
            "[nltk_data] Downloading package punkt to /root/nltk_data...\n",
            "[nltk_data]   Package punkt is already up-to-date!\n",
            "[nltk_data] Downloading package averaged_perceptron_tagger to\n",
            "[nltk_data]     /root/nltk_data...\n",
            "[nltk_data]   Package averaged_perceptron_tagger is already up-to-\n",
            "[nltk_data]       date!\n",
            "[nltk_data] Downloading package maxent_ne_chunker to\n",
            "[nltk_data]     /root/nltk_data...\n",
            "[nltk_data]   Package maxent_ne_chunker is already up-to-date!\n",
            "[nltk_data] Downloading package words to /root/nltk_data...\n",
            "[nltk_data]   Package words is already up-to-date!\n"
          ]
        },
        {
          "output_type": "stream",
          "name": "stdout",
          "text": [
            "Original Text:\n",
            "Harvard University, located in Cambridge, Massachusetts, is a prestigious institution.\n",
            "\n",
            "Resolved Text:\n",
            "[ORGANIZATION: Harvard] [Location: University] , located in [Location: Cambridge] , [Location: Massachusetts] , is a prestigious institution .\n"
          ]
        }
      ]
    },
    {
      "cell_type": "markdown",
      "source": [
        "***32.providing_coherence_for_sample***"
      ],
      "metadata": {
        "id": "4qPfR_mVXE1P"
      }
    },
    {
      "cell_type": "code",
      "source": [
        "import re\n",
        "\n",
        "sample_text = \"Once upon a time, there was a young boy named Peter.\"\n",
        "\n",
        "def check_coherence(text):\n",
        "    sentences = re.split(r'(?<=[.!?]) +', text)\n",
        "    coherence_score = 0\n",
        "\n",
        "    for sentence in sentences:\n",
        "        if sentence[0].isupper() and sentence[-1] in ['.', '!', '?']:\n",
        "            coherence_score += 1\n",
        "\n",
        "    normalized_score = coherence_score / max(len(sentences), 1)\n",
        "\n",
        "    return normalized_score\n",
        "\n",
        "coherence = check_coherence(sample_text)\n",
        "print(f\"The coherence score of the text is: {coherence}\")"
      ],
      "metadata": {
        "colab": {
          "base_uri": "https://localhost:8080/"
        },
        "id": "4GBxTVubS3iT",
        "outputId": "5f2b27fd-9a2d-4b0c-c96c-e8dcf7257f83"
      },
      "execution_count": 28,
      "outputs": [
        {
          "output_type": "stream",
          "name": "stdout",
          "text": [
            "The coherence score of the text is: 1.0\n"
          ]
        }
      ]
    },
    {
      "cell_type": "markdown",
      "source": [
        "***33.Recognize_dialog_acts***"
      ],
      "metadata": {
        "id": "5hQaw2nWXaWf"
      }
    },
    {
      "cell_type": "code",
      "source": [
        "import re\n",
        "\n",
        "def recognize_dialog_acts(dialog):\n",
        "    dialog_acts = []\n",
        "\n",
        "    for utterance in dialog:\n",
        "        if re.search(r'\\b(?:hi|hello|good morning|good afternoon|good evening)\\b', utterance, re.IGNORECASE):\n",
        "            dialog_acts.append({\"utterance\": utterance, \"act\": \"greeting\"})\n",
        "        elif re.search(r'\\b(?:how\\'s the weather today)\\b', utterance, re.IGNORECASE):\n",
        "            dialog_acts.append({\"utterance\": utterance, \"act\": \"weather inquiry\"})\n",
        "        elif re.search(r'\\b(?:\\w+ it\\'s going to be \\w+ and \\w+)\\b', utterance, re.IGNORECASE):\n",
        "            dialog_acts.append({\"utterance\": utterance, \"act\": \"weather report\"})\n",
        "        elif re.search(r'\\b(?:please send me the \\w+ by \\d+\\s?(?:am|pm)?)\\b', utterance, re.IGNORECASE):\n",
        "            dialog_acts.append({\"utterance\": utterance, \"act\": \"request\"})\n",
        "        elif re.search(r'\\b(?:of course|sure|yes|okay)\\b', utterance, re.IGNORECASE):\n",
        "            dialog_acts.append({\"utterance\": utterance, \"act\": \"confirmation\"})\n",
        "        elif re.search(r'\\b(?:do you know where(?: the)? nearest (?:\\w+ )?post office is)\\b', utterance, re.IGNORECASE):\n",
        "            dialog_acts.append({\"utterance\": utterance, \"act\": \"location inquiry\"})\n",
        "        elif re.search(r'\\b(?:the post office is \\w+ blocks down the street)\\b', utterance, re.IGNORECASE):\n",
        "            dialog_acts.append({\"utterance\": utterance, \"act\": \"location information\"})\n",
        "        else:\n",
        "            dialog_acts.append({\"utterance\": utterance, \"act\": \"unclassified\"})\n",
        "\n",
        "    return dialog_acts\n",
        "\n",
        "dialog = [\n",
        "    \"Good morning! How's the weather today?\",\n",
        "    \"I heard it's going to be sunny and warm.\",\n",
        "    \"Could you please send me the report by 3 PM?\",\n",
        "    \"Of course, I'll send it over before the deadline.\",\n",
        "    \"Do you know where the nearest post office is?\",\n",
        "    \"The post office is two blocks down the street.\"\n",
        "]\n",
        "\n",
        "\n",
        "recognized_acts = recognize_dialog_acts(dialog)\n",
        "\n",
        "for act in recognized_acts:\n",
        "    print(f\"Dialog Act: {act['act']}\\nUtterance: {act['utterance']}\\n\")"
      ],
      "metadata": {
        "colab": {
          "base_uri": "https://localhost:8080/"
        },
        "id": "VQ-mliS7TFVv",
        "outputId": "688769d8-24fa-4480-b77a-36b7e06a4389"
      },
      "execution_count": 29,
      "outputs": [
        {
          "output_type": "stream",
          "name": "stdout",
          "text": [
            "Dialog Act: greeting\n",
            "Utterance: Good morning! How's the weather today?\n",
            "\n",
            "Dialog Act: weather report\n",
            "Utterance: I heard it's going to be sunny and warm.\n",
            "\n",
            "Dialog Act: request\n",
            "Utterance: Could you please send me the report by 3 PM?\n",
            "\n",
            "Dialog Act: confirmation\n",
            "Utterance: Of course, I'll send it over before the deadline.\n",
            "\n",
            "Dialog Act: location inquiry\n",
            "Utterance: Do you know where the nearest post office is?\n",
            "\n",
            "Dialog Act: location information\n",
            "Utterance: The post office is two blocks down the street.\n",
            "\n"
          ]
        }
      ]
    },
    {
      "cell_type": "markdown",
      "source": [
        "***34.GPT-3_model_text_based***"
      ],
      "metadata": {
        "id": "vrpt-L_YXoUi"
      }
    },
    {
      "cell_type": "code",
      "source": [
        "from transformers import GPT2LMHeadModel, GPT2Tokenizer\n",
        "\n",
        "\n",
        "model_name = \"distilgpt2\"\n",
        "tokenizer = GPT2Tokenizer.from_pretrained(model_name)\n",
        "model = GPT2LMHeadModel.from_pretrained(model_name)\n",
        "\n",
        "\n",
        "prompt_text = \"Once upon a time,\"\n",
        "\n",
        "\n",
        "input_ids = tokenizer.encode(prompt_text, return_tensors='pt')\n",
        "\n",
        "output = model.generate(input_ids, max_length=100, num_return_sequences=1, temperature=0.7)\n",
        "\n",
        "generated_text = tokenizer.decode(output[0], skip_special_tokens=True)\n",
        "print(\"Generated Text:\\n\", generated_text)"
      ],
      "metadata": {
        "colab": {
          "base_uri": "https://localhost:8080/",
          "height": 333,
          "referenced_widgets": [
            "aa3293e0249c4e59a70282618d2db0e6",
            "1ddc4024b41c4c49bd1e9d88f7f4b283",
            "9f7c563e51d74f7da4076007eac0ec2e",
            "12129ffc63384813985a927ec5ce1342",
            "73c3d3be19ba47e9b4d751f6d3495dbf",
            "c13219c6fbec422aba660eb4e99f6465",
            "53407fc2445047559f96ccb1da042932",
            "f2803ee4059c4beab8a46a9acce39f17",
            "c47dae67a31f4b048c66ab6bda6466cf",
            "c6bb7d8fbd0544e49d7a4a90a97cec4b",
            "d296e875e7a74aa18cdeb15e9afe5e8a",
            "410d41c95a654a78a76ef2b58a8c7bb4",
            "6f25ba6d5b4b485abc48e7efe7540efc",
            "ecc354e86cec41a0b937a11556303554",
            "311bce12af834d3da31de2f3f9190153",
            "fb10cedcfe45499cbb9f295ef0b0fa0e",
            "267fc8caa29a469395e85122ee245da4",
            "97706fdd4703413a981a8ec0e9730cca",
            "6dd70d8d3180470fba5df48da3586620",
            "aaabb46d066a458fa75bb35111e8a93d",
            "b85276ae765d498b8770af394ff007a0",
            "b66a9f34efcb427c9336fe99d0221393",
            "523f3fd57d8549a1bbd0061485c0d087",
            "8d5e3f34c69f46658de68dbe90288b6c",
            "a0c5c314eb234612a17e8589d85f4e38",
            "dfcd1366d4a3427cb796335268f93352",
            "9d508dc88cb74c3f924a36a808492175",
            "f5cc90893e184b5bbd0049039019c1cb",
            "f59e6b434b2641ffb5d6db9cbed7679d",
            "bd487c5d5cae493a8243b6999181a5f5",
            "e80d777993f9489984630e288b0af009",
            "92fe035d91cd4cb980663b5cb80be749",
            "66521ad724f941628641f057a45f9486",
            "d88db58eb4db42af8d83c2476338202d",
            "da3c5a2edfa24b9494d97a95ef3bb42f",
            "d36e92c7d2a64260a476563b124f17c1",
            "1a7ebc8027dd42cfbc4ca3ef337578e1",
            "7fc829560a4c4d13bbc6b7508b90d74c",
            "df22a848a0094d0e82c75fa9ca8cee6d",
            "3ae2a61b5f3e441db3c111e4dae1d769",
            "685c519a97ba402384b87d2a3da711bd",
            "f17462de1a494fd69dcec18da5322eaa",
            "1f311a5dde0648d391374cc4f67a0400",
            "4279ed4a5a2b4ff3a2764ac47d1539e7",
            "e9fe5e3dc7aa48f1a5bba43e540b5bf1",
            "e9cd07d279bd42c584830f7b87ae3650",
            "e8572dd4a4614731ae6d6a1c08de00f1",
            "2dbda974a7e440d5807e7aac00eb41c0",
            "dd312d58e62c4e5db90ffd03e6ddaa78",
            "9c282dd1f88d4107909eaeee947e061e",
            "40578c4087304d25b2b689a3fe7010e8",
            "23c7fcf3c185461a99f3b8023dd3eeb6",
            "ec6dcdcde67d471e8ad9bb1b6a3a9e2c",
            "17e901f80e614aa7b2a31099f50d9e76",
            "f8490076106340b1b2ae3d33c90cf909",
            "d323f102834d45beb05d8b56aa4ecc1f",
            "f946ecc4b09a4714889af31d36a2533c",
            "5ca2684f6087484bbb52dc4fda5f8236",
            "4dbe74c3d6d94b319e531dcc6a35cd37",
            "958311d4ca4048b8adb1e3a5c703f1d0",
            "060dd7850adf43b79b449a786987a748",
            "9061ca844dec41dca840c08d08ba3a11",
            "cf527091edd7487b9ee3a2394b0146bb",
            "cecb1437f107427fa99b0c7352adad2a",
            "f6781283b7bf42679b54ce437455e228",
            "51eaad22c62d418c9c33e20dcaea5288"
          ]
        },
        "id": "Lxh77MJmTHRs",
        "outputId": "014d2c5c-54de-4d05-e689-36e91b51bf01"
      },
      "execution_count": 30,
      "outputs": [
        {
          "output_type": "display_data",
          "data": {
            "text/plain": [
              "vocab.json:   0%|          | 0.00/1.04M [00:00<?, ?B/s]"
            ],
            "application/vnd.jupyter.widget-view+json": {
              "version_major": 2,
              "version_minor": 0,
              "model_id": "aa3293e0249c4e59a70282618d2db0e6"
            }
          },
          "metadata": {}
        },
        {
          "output_type": "display_data",
          "data": {
            "text/plain": [
              "merges.txt:   0%|          | 0.00/456k [00:00<?, ?B/s]"
            ],
            "application/vnd.jupyter.widget-view+json": {
              "version_major": 2,
              "version_minor": 0,
              "model_id": "410d41c95a654a78a76ef2b58a8c7bb4"
            }
          },
          "metadata": {}
        },
        {
          "output_type": "display_data",
          "data": {
            "text/plain": [
              "tokenizer.json:   0%|          | 0.00/1.36M [00:00<?, ?B/s]"
            ],
            "application/vnd.jupyter.widget-view+json": {
              "version_major": 2,
              "version_minor": 0,
              "model_id": "523f3fd57d8549a1bbd0061485c0d087"
            }
          },
          "metadata": {}
        },
        {
          "output_type": "display_data",
          "data": {
            "text/plain": [
              "config.json:   0%|          | 0.00/762 [00:00<?, ?B/s]"
            ],
            "application/vnd.jupyter.widget-view+json": {
              "version_major": 2,
              "version_minor": 0,
              "model_id": "d88db58eb4db42af8d83c2476338202d"
            }
          },
          "metadata": {}
        },
        {
          "output_type": "display_data",
          "data": {
            "text/plain": [
              "model.safetensors:   0%|          | 0.00/353M [00:00<?, ?B/s]"
            ],
            "application/vnd.jupyter.widget-view+json": {
              "version_major": 2,
              "version_minor": 0,
              "model_id": "e9fe5e3dc7aa48f1a5bba43e540b5bf1"
            }
          },
          "metadata": {}
        },
        {
          "output_type": "display_data",
          "data": {
            "text/plain": [
              "generation_config.json:   0%|          | 0.00/124 [00:00<?, ?B/s]"
            ],
            "application/vnd.jupyter.widget-view+json": {
              "version_major": 2,
              "version_minor": 0,
              "model_id": "d323f102834d45beb05d8b56aa4ecc1f"
            }
          },
          "metadata": {}
        },
        {
          "output_type": "stream",
          "name": "stderr",
          "text": [
            "/usr/local/lib/python3.10/dist-packages/transformers/generation/configuration_utils.py:381: UserWarning: `do_sample` is set to `False`. However, `temperature` is set to `0.7` -- this flag is only used in sample-based generation modes. You should set `do_sample=True` or unset `temperature`.\n",
            "  warnings.warn(\n",
            "The attention mask and the pad token id were not set. As a consequence, you may observe unexpected behavior. Please pass your input's `attention_mask` to obtain reliable results.\n",
            "Setting `pad_token_id` to `eos_token_id`:50256 for open-end generation.\n"
          ]
        },
        {
          "output_type": "stream",
          "name": "stdout",
          "text": [
            "Generated Text:\n",
            " Once upon a time, the world was a little more like a place where you could go and go and go and go and go and go and go and go and go and go and go and go and go and go and go and go and go and go and go and go and go and go and go and go and go and go and go and go and go and go and go and go and go and go and go and go and go and go and go and go and go and go\n"
          ]
        }
      ]
    },
    {
      "cell_type": "markdown",
      "source": [
        "***35.spaCY_or_NLTK_Nameed_entity_recognition***"
      ],
      "metadata": {
        "id": "9GKIpzxZXyOp"
      }
    },
    {
      "cell_type": "code",
      "source": [
        "!pip install spacy"
      ],
      "metadata": {
        "colab": {
          "base_uri": "https://localhost:8080/"
        },
        "id": "uO5i9sAITNPA",
        "outputId": "12e37598-f2cf-4242-f57e-5360dc965eb5"
      },
      "execution_count": 31,
      "outputs": [
        {
          "output_type": "stream",
          "name": "stdout",
          "text": [
            "Requirement already satisfied: spacy in /usr/local/lib/python3.10/dist-packages (3.6.1)\n",
            "Requirement already satisfied: spacy-legacy<3.1.0,>=3.0.11 in /usr/local/lib/python3.10/dist-packages (from spacy) (3.0.12)\n",
            "Requirement already satisfied: spacy-loggers<2.0.0,>=1.0.0 in /usr/local/lib/python3.10/dist-packages (from spacy) (1.0.5)\n",
            "Requirement already satisfied: murmurhash<1.1.0,>=0.28.0 in /usr/local/lib/python3.10/dist-packages (from spacy) (1.0.10)\n",
            "Requirement already satisfied: cymem<2.1.0,>=2.0.2 in /usr/local/lib/python3.10/dist-packages (from spacy) (2.0.8)\n",
            "Requirement already satisfied: preshed<3.1.0,>=3.0.2 in /usr/local/lib/python3.10/dist-packages (from spacy) (3.0.9)\n",
            "Requirement already satisfied: thinc<8.2.0,>=8.1.8 in /usr/local/lib/python3.10/dist-packages (from spacy) (8.1.12)\n",
            "Requirement already satisfied: wasabi<1.2.0,>=0.9.1 in /usr/local/lib/python3.10/dist-packages (from spacy) (1.1.2)\n",
            "Requirement already satisfied: srsly<3.0.0,>=2.4.3 in /usr/local/lib/python3.10/dist-packages (from spacy) (2.4.8)\n",
            "Requirement already satisfied: catalogue<2.1.0,>=2.0.6 in /usr/local/lib/python3.10/dist-packages (from spacy) (2.0.10)\n",
            "Requirement already satisfied: typer<0.10.0,>=0.3.0 in /usr/local/lib/python3.10/dist-packages (from spacy) (0.9.0)\n",
            "Requirement already satisfied: pathy>=0.10.0 in /usr/local/lib/python3.10/dist-packages (from spacy) (0.10.3)\n",
            "Requirement already satisfied: smart-open<7.0.0,>=5.2.1 in /usr/local/lib/python3.10/dist-packages (from spacy) (6.4.0)\n",
            "Requirement already satisfied: tqdm<5.0.0,>=4.38.0 in /usr/local/lib/python3.10/dist-packages (from spacy) (4.66.1)\n",
            "Requirement already satisfied: numpy>=1.15.0 in /usr/local/lib/python3.10/dist-packages (from spacy) (1.23.5)\n",
            "Requirement already satisfied: requests<3.0.0,>=2.13.0 in /usr/local/lib/python3.10/dist-packages (from spacy) (2.31.0)\n",
            "Requirement already satisfied: pydantic!=1.8,!=1.8.1,<3.0.0,>=1.7.4 in /usr/local/lib/python3.10/dist-packages (from spacy) (1.10.13)\n",
            "Requirement already satisfied: jinja2 in /usr/local/lib/python3.10/dist-packages (from spacy) (3.1.2)\n",
            "Requirement already satisfied: setuptools in /usr/local/lib/python3.10/dist-packages (from spacy) (67.7.2)\n",
            "Requirement already satisfied: packaging>=20.0 in /usr/local/lib/python3.10/dist-packages (from spacy) (23.2)\n",
            "Requirement already satisfied: langcodes<4.0.0,>=3.2.0 in /usr/local/lib/python3.10/dist-packages (from spacy) (3.3.0)\n",
            "Requirement already satisfied: typing-extensions>=4.2.0 in /usr/local/lib/python3.10/dist-packages (from pydantic!=1.8,!=1.8.1,<3.0.0,>=1.7.4->spacy) (4.5.0)\n",
            "Requirement already satisfied: charset-normalizer<4,>=2 in /usr/local/lib/python3.10/dist-packages (from requests<3.0.0,>=2.13.0->spacy) (3.3.2)\n",
            "Requirement already satisfied: idna<4,>=2.5 in /usr/local/lib/python3.10/dist-packages (from requests<3.0.0,>=2.13.0->spacy) (3.4)\n",
            "Requirement already satisfied: urllib3<3,>=1.21.1 in /usr/local/lib/python3.10/dist-packages (from requests<3.0.0,>=2.13.0->spacy) (2.0.7)\n",
            "Requirement already satisfied: certifi>=2017.4.17 in /usr/local/lib/python3.10/dist-packages (from requests<3.0.0,>=2.13.0->spacy) (2023.7.22)\n",
            "Requirement already satisfied: blis<0.8.0,>=0.7.8 in /usr/local/lib/python3.10/dist-packages (from thinc<8.2.0,>=8.1.8->spacy) (0.7.11)\n",
            "Requirement already satisfied: confection<1.0.0,>=0.0.1 in /usr/local/lib/python3.10/dist-packages (from thinc<8.2.0,>=8.1.8->spacy) (0.1.3)\n",
            "Requirement already satisfied: click<9.0.0,>=7.1.1 in /usr/local/lib/python3.10/dist-packages (from typer<0.10.0,>=0.3.0->spacy) (8.1.7)\n",
            "Requirement already satisfied: MarkupSafe>=2.0 in /usr/local/lib/python3.10/dist-packages (from jinja2->spacy) (2.1.3)\n"
          ]
        }
      ]
    },
    {
      "cell_type": "code",
      "source": [
        "import spacy\n",
        "\n",
        "def perform_ner(text):\n",
        "    nlp = spacy.load(\"en_core_web_sm\")\n",
        "\n",
        "    doc = nlp(text)\n",
        "\n",
        "\n",
        "    named_entities = [(ent.text, ent.label_) for ent in doc.ents]\n",
        "\n",
        "    return named_entities\n",
        "\n",
        "\n",
        "input_text = \"Microsoft Corporation is headquartered in Redmond, Washington.\"\n",
        "\n",
        "ner_results = perform_ner(input_text)\n",
        "\n",
        "print(\"Named Entities:\")\n",
        "for entity, label in ner_results:\n",
        "    print(f\"{entity} - {label}\")\n"
      ],
      "metadata": {
        "colab": {
          "base_uri": "https://localhost:8080/"
        },
        "id": "6HSAv3RqTU0W",
        "outputId": "f6571bbd-81d2-4cbc-f088-e240fb130e4a"
      },
      "execution_count": 32,
      "outputs": [
        {
          "output_type": "stream",
          "name": "stdout",
          "text": [
            "Named Entities:\n",
            "Microsoft Corporation - ORG\n",
            "Redmond - GPE\n",
            "Washington - GPE\n"
          ]
        }
      ]
    },
    {
      "cell_type": "markdown",
      "source": [
        "***36.Extract_regexp***"
      ],
      "metadata": {
        "id": "4RN1ltbCYVIZ"
      }
    },
    {
      "cell_type": "code",
      "source": [
        "import re\n",
        "\n",
        "def extract_words_with_pattern(text, pattern):\n",
        "    matches = re.findall(pattern, text)\n",
        "    return matches\n",
        "\n",
        "input_sentence = \"The quick brown fox jumps over the lazy dog. The cat is also agile.\"\n",
        "\n",
        "pattern = r'\\b\\w{3}\\b'\n",
        "\n",
        "result = extract_words_with_pattern(input_sentence, pattern)\n",
        "\n",
        "print(\"Input Sentence:\", input_sentence)\n",
        "print(\"Three-letter words:\", result)"
      ],
      "metadata": {
        "colab": {
          "base_uri": "https://localhost:8080/"
        },
        "id": "m8xx9L1KTdbC",
        "outputId": "90f7423d-2576-459b-8088-9eb5b7e7eb03"
      },
      "execution_count": 33,
      "outputs": [
        {
          "output_type": "stream",
          "name": "stdout",
          "text": [
            "Input Sentence: The quick brown fox jumps over the lazy dog. The cat is also agile.\n",
            "Three-letter words: ['The', 'fox', 'the', 'dog', 'The', 'cat']\n"
          ]
        }
      ]
    },
    {
      "cell_type": "markdown",
      "source": [
        "***37.MORPHOLOGICAL_ANALYSIS***"
      ],
      "metadata": {
        "id": "tj12bl2WYgsx"
      }
    },
    {
      "cell_type": "code",
      "source": [
        "import nltk\n",
        "from nltk.tokenize import word_tokenize\n",
        "from nltk.stem import WordNetLemmatizer\n",
        "\n",
        "nltk.download('punkt')\n",
        "nltk.download('wordnet')\n",
        "\n",
        "def perform_lemmatization(sentence):\n",
        "    tokens = word_tokenize(sentence)\n",
        "    lemmatizer = WordNetLemmatizer()\n",
        "    lemmatized_words = [lemmatizer.lemmatize(word) for word in tokens]\n",
        "    return ' '.join(lemmatized_words)\n",
        "\n",
        "sentence1 = \"The quick brown foxes jumped over the lazy dogs.\"\n",
        "sentence2 = \"I am running in the park with my friends.\"\n",
        "\n",
        "lemmatized_sentence1 = perform_lemmatization(sentence1)\n",
        "lemmatized_sentence2 = perform_lemmatization(sentence2)\n",
        "\n",
        "print(\"Original Sentence 1:\", sentence1)\n",
        "print(\"Lemmatized Sentence 1:\", lemmatized_sentence1)\n",
        "print(\"\\nOriginal Sentence 2:\", sentence2)\n",
        "print(\"Lemmatized Sentence 2:\", lemmatized_sentence2)\n"
      ],
      "metadata": {
        "colab": {
          "base_uri": "https://localhost:8080/"
        },
        "id": "3Q-vSjWfTiYk",
        "outputId": "39714b2f-8541-46a8-c9aa-9c2aba81e695"
      },
      "execution_count": 34,
      "outputs": [
        {
          "output_type": "stream",
          "name": "stdout",
          "text": [
            "Original Sentence 1: The quick brown foxes jumped over the lazy dogs.\n",
            "Lemmatized Sentence 1: The quick brown fox jumped over the lazy dog .\n",
            "\n",
            "Original Sentence 2: I am running in the park with my friends.\n",
            "Lemmatized Sentence 2: I am running in the park with my friend .\n"
          ]
        },
        {
          "output_type": "stream",
          "name": "stderr",
          "text": [
            "[nltk_data] Downloading package punkt to /root/nltk_data...\n",
            "[nltk_data]   Package punkt is already up-to-date!\n",
            "[nltk_data] Downloading package wordnet to /root/nltk_data...\n",
            "[nltk_data]   Package wordnet is already up-to-date!\n"
          ]
        }
      ]
    },
    {
      "cell_type": "markdown",
      "source": [
        "***38.PORTER_STEMMER_ALGORITHM***"
      ],
      "metadata": {
        "id": "P3kBEP9uYqgY"
      }
    },
    {
      "cell_type": "code",
      "source": [
        "import nltk\n",
        "from nltk.tokenize import word_tokenize\n",
        "from nltk.stem import PorterStemmer\n",
        "\n",
        "nltk.download('punkt')\n",
        "\n",
        "def perform_stemming(sentence):\n",
        "    tokens = word_tokenize(sentence)\n",
        "    stemmer = PorterStemmer()\n",
        "    stemmed_words = [stemmer.stem(word) for word in tokens]\n",
        "    return ' '.join(stemmed_words)\n",
        "\n",
        "\n",
        "sentence1 = \"Coding with Python is very enjoyable.\"\n",
        "sentence2 = \"I had a delicious meal at the restaurant.\"\n",
        "\n",
        "stemmed_sentence1 = perform_stemming(sentence1)\n",
        "stemmed_sentence2 = perform_stemming(sentence2)\n",
        "\n",
        "print(\"Original Sentence 1:\", sentence1)\n",
        "print(\"Stemmed Sentence 1:\", stemmed_sentence1)\n",
        "print(\"\\nOriginal Sentence 2:\", sentence2)\n",
        "print(\"Stemmed Sentence 2:\", stemmed_sentence2)\n"
      ],
      "metadata": {
        "colab": {
          "base_uri": "https://localhost:8080/"
        },
        "id": "hq84uhXgTn09",
        "outputId": "39c04e55-361d-4d25-c031-c948995407ea"
      },
      "execution_count": 40,
      "outputs": [
        {
          "output_type": "stream",
          "name": "stdout",
          "text": [
            "Original Sentence 1: Coding with Python is very enjoyable.\n",
            "Stemmed Sentence 1: code with python is veri enjoy .\n",
            "\n",
            "Original Sentence 2: I had a delicious meal at the restaurant.\n",
            "Stemmed Sentence 2: i had a delici meal at the restaur .\n"
          ]
        },
        {
          "output_type": "stream",
          "name": "stderr",
          "text": [
            "[nltk_data] Downloading package punkt to /root/nltk_data...\n",
            "[nltk_data]   Package punkt is already up-to-date!\n"
          ]
        }
      ]
    },
    {
      "cell_type": "markdown",
      "source": [
        "***39.FINITE_STATE_AUTOMATION_DATE***"
      ],
      "metadata": {
        "id": "pGmP2Cv2qoTG"
      }
    },
    {
      "cell_type": "code",
      "source": [
        "class DateFSM:\n",
        "    def __init__(self):\n",
        "        self.states = {'start', 'day', 'separator1', 'month', 'separator2', 'year', 'accept'}\n",
        "        self.transitions = {\n",
        "            'start': {'0': 'day', '1-3': 'day'},\n",
        "            'day': {'0-9': 'day', '/': 'separator1'},\n",
        "            'separator1': {'/': 'month'},\n",
        "            'month': {'0': 'month', '1': 'month', '2': 'month', '/': 'separator2'},\n",
        "            'separator2': {'/': 'year'},\n",
        "            'year': {'0-9': 'year', 'accept': 'accept'},\n",
        "        }\n",
        "\n",
        "    def recognize_date(self, date_str):\n",
        "        current_state = 'start'\n",
        "        for char in date_str:\n",
        "            if char.isdigit():\n",
        "                char_type = '0-9'\n",
        "            else:\n",
        "                char_type = char\n",
        "\n",
        "            if char_type in self.transitions[current_state]:\n",
        "                current_state = self.transitions[current_state][char_type]\n",
        "            else:\n",
        "                return False\n",
        "\n",
        "        return current_state == 'accept'\n",
        "\n",
        "date_fsm = DateFSM()\n",
        "date1 = \"31/12/2022\"\n",
        "date2 = \"15/05/1985\"\n",
        "date3 = \"02/29/2021\"\n",
        "\n",
        "print(f\"{date1} is valid: {date_fsm.recognize_date(date1)}\")\n",
        "print(f\"{date2} is valid: {date_fsm.recognize_date(date2)}\")\n",
        "print(f\"{date3} is valid: {date_fsm.recognize_date(date3)}\")\n"
      ],
      "metadata": {
        "colab": {
          "base_uri": "https://localhost:8080/"
        },
        "id": "f7IUoNYnqo4U",
        "outputId": "51295206-fcbe-494c-f8d3-e25642b87a12"
      },
      "execution_count": 41,
      "outputs": [
        {
          "output_type": "stream",
          "name": "stdout",
          "text": [
            "31/12/2022 is valid: False\n",
            "15/05/1985 is valid: False\n",
            "02/29/2021 is valid: False\n"
          ]
        }
      ]
    },
    {
      "cell_type": "markdown",
      "source": [
        "***40.FOPC_logical_expression***"
      ],
      "metadata": {
        "id": "7XfyJbPCY5tn"
      }
    },
    {
      "cell_type": "code",
      "source": [
        "class FOPCParser:\n",
        "    def __init__(self, variables):\n",
        "        self.variables = variables\n",
        "\n",
        "    def parse_expression(self, expression):\n",
        "        tokens = expression.split()\n",
        "        stack = []\n",
        "\n",
        "        for token in tokens:\n",
        "            if token in self.variables:\n",
        "                stack.append(self.variables[token])\n",
        "            elif token == 'and':\n",
        "                if len(stack) >= 2:\n",
        "                    operand2 = stack.pop()\n",
        "                    operand1 = stack.pop()\n",
        "                    stack.append(operand1 and operand2)\n",
        "                else:\n",
        "                    return None\n",
        "            elif token == 'or':\n",
        "                if len(stack) >= 2:\n",
        "                    operand2 = stack.pop()\n",
        "                    operand1 = stack.pop()\n",
        "                    stack.append(operand1 or operand2)\n",
        "                else:\n",
        "                    return None\n",
        "            elif token == 'not':\n",
        "                if stack:\n",
        "                    operand = stack.pop()\n",
        "                    stack.append(not operand)\n",
        "                else:\n",
        "                    return None\n",
        "            elif token.startswith('('):\n",
        "                stack.append(token[1:])\n",
        "            elif token.endswith(')'):\n",
        "                subexpression = [stack.pop()]\n",
        "                while stack and not subexpression[-1].startswith('('):\n",
        "                    subexpression.append(stack.pop())\n",
        "                if not stack:\n",
        "                    return None\n",
        "                subexpression.reverse()\n",
        "                subexpression = ' '.join(subexpression)\n",
        "                stack.append(self.parse_expression(subexpression))\n",
        "            else:\n",
        "                stack.append(token.lower() == 'true')\n",
        "\n",
        "        return stack[0] if stack else None\n",
        "\n",
        "\n",
        "variables = {'p': True, 'q': True, 'r': False}\n",
        "\n",
        "\n",
        "expressions = [\"p and q\", \"p or r\", \"not p\", \"q and (r or p)\", \"((p and q) or r\", \"p and (q or r))\"]\n",
        "\n",
        "parser = FOPCParser(variables)\n",
        "for expression in expressions:\n",
        "    result = parser.parse_expression(expression)\n",
        "    if result is not None:\n",
        "        print(f\"{expression}: {result}\")\n",
        "    else:\n",
        "        print(f\"{expression}: Invalid expression\")"
      ],
      "metadata": {
        "colab": {
          "base_uri": "https://localhost:8080/"
        },
        "id": "aai0HmkGT34w",
        "outputId": "c2d2e118-4974-4696-e0ff-9399046bd9d8"
      },
      "execution_count": 36,
      "outputs": [
        {
          "output_type": "stream",
          "name": "stdout",
          "text": [
            "p and q: Invalid expression\n",
            "p or r: Invalid expression\n",
            "not p: Invalid expression\n",
            "q and (r or p): Invalid expression\n",
            "((p and q) or r: Invalid expression\n",
            "p and (q or r)): Invalid expression\n"
          ]
        }
      ]
    }
  ]
}